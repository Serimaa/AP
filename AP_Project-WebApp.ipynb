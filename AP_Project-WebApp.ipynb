{
 "cells": [
  {
   "cell_type": "code",
   "execution_count": 2,
   "id": "e85cfad9",
   "metadata": {},
   "outputs": [],
   "source": [
    "import pandas as pd\n",
    "import numpy as np\n",
    "import matplotlib.pyplot as plt\n",
    "import plotly.express as px  \n",
    "import plotly.graph_objects as go"
   ]
  },
  {
   "cell_type": "code",
   "execution_count": 3,
   "id": "00d28ef0",
   "metadata": {},
   "outputs": [],
   "source": [
    "crops_prod_data = pd.read_csv(r\"FAOSTAT_data_(OK).csv\")\n",
    "#crops_prod_data.head()"
   ]
  },
  {
   "cell_type": "code",
   "execution_count": 4,
   "id": "f716f72e",
   "metadata": {},
   "outputs": [],
   "source": [
    "# Select necessary columns and pivot the data\n",
    "crops_prod_data = crops_prod_data[['Area', 'Item', 'Year', 'Value']] \n",
    "\n",
    "# Aggregating duplicate entries by taking the sum of 'Value'\n",
    "crops_prod_data_agg = crops_prod_data.groupby(['Year', 'Item']).agg({'Value': 'sum'}).reset_index()\n",
    "\n",
    "# Pivoting the aggregated data\n",
    "dummy = crops_prod_data_agg.pivot(index='Year', columns='Item', values='Value')\n",
    "#dummy.head()"
   ]
  },
  {
   "cell_type": "code",
   "execution_count": 5,
   "id": "724661a5",
   "metadata": {},
   "outputs": [],
   "source": [
    "#dummy.columns"
   ]
  },
  {
   "cell_type": "code",
   "execution_count": 6,
   "id": "2ba88ba2",
   "metadata": {},
   "outputs": [],
   "source": [
    "# Rename Columns\n",
    "dummy = dummy.rename(columns={\n",
    "    'Other beans, green': 'Green Beans',\n",
    "    'Cashew nuts, in shell': 'Cashew nuts',\n",
    "    'Cereals n.e.c.': 'Cereals',\n",
    "    'Coffee, green': 'Coffee',\n",
    "    'Maize (corn)': 'Maize',\n",
    "    'Oil palm fruit': 'Palm Oil',\n",
    "    'Peas, dry': 'Dry Peas',\n",
    "    'Rape or colza seed': 'Rapeseed',\n",
    "    'Soya beans': 'Soybeans',\n",
    "    'Tea leaves': 'Tea'\n",
    "})\n",
    "\n",
    "#dummy.head()"
   ]
  },
  {
   "cell_type": "code",
   "execution_count": 7,
   "id": "fe1975f6",
   "metadata": {},
   "outputs": [],
   "source": [
    "# Convert values to integers\n",
    "crops_production_data_def = dummy.astype(int)"
   ]
  },
  {
   "cell_type": "code",
   "execution_count": 8,
   "id": "865a861d",
   "metadata": {},
   "outputs": [],
   "source": [
    "livestock_data = pd.read_csv(r\"FAOSTAT_data_Meat.csv\")\n",
    "#livestock_data.head()"
   ]
  },
  {
   "cell_type": "code",
   "execution_count": 9,
   "id": "422d6599",
   "metadata": {},
   "outputs": [],
   "source": [
    "# Select necessary columns and pivot the data\n",
    "livestock_data = livestock_data[['Area', 'Item', 'Year', 'Value']] \n",
    "\n",
    "# Aggregating duplicate entries by taking the sum of 'Value'\n",
    "livestock_data_agg = livestock_data.groupby(['Year', 'Item']).agg({'Value': 'sum'}).reset_index()\n",
    "\n",
    "# Pivoting the aggregated data\n",
    "dummy2 = livestock_data_agg.pivot(index='Year', columns='Item', values='Value')"
   ]
  },
  {
   "cell_type": "code",
   "execution_count": 10,
   "id": "7f15c5ac",
   "metadata": {},
   "outputs": [],
   "source": [
    "# Rename Columns\n",
    "dummy2 = dummy2.rename(columns={\n",
    "    'Beef and Buffalo Meat, primary': 'Beef and Buffalo Meat',\n",
    "    'Eggs Primary': 'Eggs',\n",
    "    'Meat of pig with the bone, fresh or chilled': 'Pig Meat',\n",
    "    'Meat, Poultry': 'Poultry Meat',\n",
    "    'Meat, Total': 'Global Meat',\n",
    "    'Milk, Total': 'Milk',\n",
    "})\n",
    "\n",
    "# Order columns\n",
    "ordered_columns = ['Global Meat', 'Beef and Buffalo Meat', 'Poultry Meat', 'Pig Meat', 'Sheep and Goat Meat', 'Milk', 'Eggs']\n",
    "dummy2 = dummy2[ordered_columns]\n",
    "\n",
    "# Convert values to integers\n",
    "livestock_primary_data_def = dummy2.astype(int)\n",
    "\n",
    "#livestock_primary_data_def.head()"
   ]
  },
  {
   "cell_type": "code",
   "execution_count": 11,
   "id": "0b2151e7",
   "metadata": {},
   "outputs": [],
   "source": [
    "ghg_by_sector = pd.read_csv(r\"ghg_by_sector.csv\")\n",
    "#ghg_by_sector.head()"
   ]
  },
  {
   "cell_type": "code",
   "execution_count": 12,
   "id": "328ed3ea",
   "metadata": {},
   "outputs": [],
   "source": [
    "#ghg_by_sector.columns"
   ]
  },
  {
   "cell_type": "code",
   "execution_count": 13,
   "id": "46a43aee",
   "metadata": {},
   "outputs": [],
   "source": [
    "# Filter rows where Entity is \"World\"\n",
    "w = ghg_by_sector[ghg_by_sector['Entity'] == \"World\"]\n",
    "\n",
    "# Select necessary columns \n",
    "w = w.drop(columns=['Code'])\n",
    "\n",
    "# Rename columns as per your specifications\n",
    "ghgevol_df = w.rename(columns={\n",
    "    'Greenhouse gas emissions from agriculture': 'Agriculture',\n",
    "    'Greenhouse gas emissions from bunker fuels': 'Bunker Fuels',\n",
    "    'Greenhouse gas emissions from industry': 'Industry',\n",
    "    'Greenhouse gas emissions from land use change and forestry': 'Land-Use Change&Forestry',\n",
    "    'Greenhouse gas emissions from waste': 'Waste',\n",
    "    'Greenhouse gas emissions from buildings': 'Buildings',\n",
    "    'Greenhouse gas emissions from electricity and heat': 'Electricity & Heat',\n",
    "    'Fugitive emissions of greenhouse gases from energy production': 'Fugitive from energy production',\n",
    "    'Greenhouse gas emissions from manufacturing and construction': 'Manufacturing/Construction energy',\n",
    "    'Greenhouse gas emissions from other fuel combustion': 'Other Fuel Combustion',\n",
    "    'Greenhouse gas emissions from transport': 'Transport'\n",
    "})\n",
    "\n",
    "# Set 'Year' column as the index\n",
    "ghgevol_df = ghgevol_df.set_index('Year')\n",
    "\n",
    "#ghgevol_df.head()"
   ]
  },
  {
   "cell_type": "code",
   "execution_count": 14,
   "id": "49121fa8",
   "metadata": {},
   "outputs": [],
   "source": [
    "# Convert the values from tons to million tons\n",
    "for column in ghgevol_df.columns:\n",
    "    if column != 'Entity':\n",
    "        ghgevol_df[column] = ghgevol_df[column]/1_000_000\n",
    "        \n",
    "# Convert all columns except 'Entity' to integer\n",
    "for column in ghgevol_df.columns:\n",
    "    if column != 'Entity':\n",
    "        ghgevol_df[column] = ghgevol_df[column].astype(int)\n",
    "\n",
    "#ghgevol_df.head()"
   ]
  },
  {
   "cell_type": "code",
   "execution_count": 15,
   "id": "03d5530a",
   "metadata": {},
   "outputs": [],
   "source": [
    "methane_by_sector = pd.read_csv(r\"methane_by_sector.csv\")\n",
    "#methane_by_sector.head()"
   ]
  },
  {
   "cell_type": "code",
   "execution_count": 16,
   "id": "973f3c2f",
   "metadata": {},
   "outputs": [],
   "source": [
    "# Filter rows where Entity is \"World\"\n",
    "z = methane_by_sector[methane_by_sector['Entity'] == \"World\"]\n",
    "\n",
    "# Select necessary columns \n",
    "z = z.drop(columns=['Code'])\n",
    "\n",
    "# Rename columns as per your specifications\n",
    "ch4evol_def = z.rename(columns={\n",
    "    'Methane emissions from agriculture': 'Agriculture',\n",
    "    'Methane emissions from industry': 'Industry',\n",
    "    'Methane emissions from land use change and forestry': 'Land-Use Change&Forestry',\n",
    "    'Methane emissions from waste': 'Waste',\n",
    "    'Fugitive emissions of methane from energy production': 'Fugitive from energy production',\n",
    "    'Methane gas emissions from other fuel combustion': 'Other Fuel Combustion',\n",
    "})\n",
    "\n",
    "# Set 'Year' column as the index\n",
    "ch4evol_def = ch4evol_def.set_index('Year')"
   ]
  },
  {
   "cell_type": "code",
   "execution_count": 17,
   "id": "f64d4725",
   "metadata": {},
   "outputs": [],
   "source": [
    "# Convert the values from tons to million tons\n",
    "for column in ch4evol_def.columns:\n",
    "    if column != 'Entity':\n",
    "        ch4evol_def[column] = ch4evol_def[column]/1000000\n",
    "        \n",
    "# Convert all columns except 'Entity' to integer\n",
    "for column in ch4evol_def.columns:\n",
    "    if column != 'Entity':\n",
    "        ch4evol_def[column] = ch4evol_def[column].astype(int)\n",
    "\n",
    "#ch4evol_def.head()"
   ]
  },
  {
   "cell_type": "code",
   "execution_count": 18,
   "id": "af935363",
   "metadata": {},
   "outputs": [],
   "source": [
    "N2O_by_sector = pd.read_csv(r\"N2O_by_sector.csv\")\n",
    "#N2O_by_sector.head()"
   ]
  },
  {
   "cell_type": "code",
   "execution_count": 19,
   "id": "c29aa154",
   "metadata": {},
   "outputs": [],
   "source": [
    "# Filter rows where Entity is \"World\"\n",
    "q = N2O_by_sector[N2O_by_sector['Entity'] == \"World\"]\n",
    "\n",
    "# Select necessary columns \n",
    "q = q.drop(columns=['Code'])\n",
    "\n",
    "# Rename columns as per your specifications\n",
    "n2obysector_def = q.rename(columns={\n",
    "    'Nitrous oxide emissions from agriculture': 'Agriculture',\n",
    "    'Nitrous oxide emissions from industry': 'Industry',\n",
    "    'Nitrous oxide emissions from land use change and forestry': 'Land-Use Change&Forestry',\n",
    "    'Nitrous oxide emissions from waste': 'Waste',\n",
    "    'Fugitive emissions of nitrous oxide from energy production': 'Fugitive from energy production',\n",
    "    'Nitrous oxide emissions from other fuel combustion': 'Other Fuel Combustion',\n",
    "})\n",
    "\n",
    "# Set 'Year' column as the index\n",
    "n2obysector_def = n2obysector_def.set_index('Year')"
   ]
  },
  {
   "cell_type": "code",
   "execution_count": 20,
   "id": "1b1d1643",
   "metadata": {},
   "outputs": [],
   "source": [
    "# Convert the values from tons to million tons\n",
    "for column in n2obysector_def.columns:\n",
    "    if column != 'Entity':\n",
    "        n2obysector_def[column] = n2obysector_def[column]/1000000\n",
    "        \n",
    "# Convert all columns except 'Entity' to integer\n",
    "for column in n2obysector_def.columns:\n",
    "    if column != 'Entity':\n",
    "        n2obysector_def[column] = n2obysector_def[column].astype(int)\n",
    "\n",
    "#n2obysector_def.head()"
   ]
  },
  {
   "cell_type": "code",
   "execution_count": 21,
   "id": "34880702",
   "metadata": {},
   "outputs": [],
   "source": [
    "#n2obysector_def.columns"
   ]
  },
  {
   "cell_type": "code",
   "execution_count": 22,
   "id": "8ab6e331",
   "metadata": {},
   "outputs": [],
   "source": [
    "ghgperkgproduced = pd.read_csv(r\"ghg_per_kg_produced.csv\")\n",
    "#ghgperkgproduced"
   ]
  },
  {
   "cell_type": "code",
   "execution_count": 23,
   "id": "ce0bb39e",
   "metadata": {},
   "outputs": [],
   "source": [
    "# Divide the dataframe \n",
    "crops_production_data_def2 = crops_production_data_def[['Bananas', 'Coffee', 'Maize', 'Palm Oil', 'Rice', 'Rye', 'Sugar cane', 'Tomatoes', 'Wheat']]\n",
    "livestock_primary_data_def2 = livestock_primary_data_def[['Beef and Buffalo Meat', 'Poultry Meat', 'Pig Meat', 'Sheep and Goat Meat', 'Milk', 'Eggs']]\n",
    "\n",
    "# Perform left join on 'Year' column\n",
    "summary_table = pd.merge(livestock_primary_data_def2, crops_production_data_def2, on='Year', how='left')\n",
    "#summary_table.head()"
   ]
  },
  {
   "cell_type": "code",
   "execution_count": 24,
   "id": "d5fb05e1",
   "metadata": {},
   "outputs": [],
   "source": [
    "ghgperkgproduced2 = ghgperkgproduced.copy()\n",
    "ghgperkgproduced2['GHG Emissions per 1 kg  Produced'] = ghgperkgproduced2['GHG Emissions per 1 kg  Produced']*1000\n",
    "\n",
    "ghgpertproduced2 = ghgperkgproduced2.rename(columns={'GHG Emissions per 1 kg  Produced': 'GHG Emissions per 1 t Produced'})\n",
    "#ghgpertproduced2"
   ]
  },
  {
   "cell_type": "code",
   "execution_count": 25,
   "id": "30c093f2",
   "metadata": {},
   "outputs": [],
   "source": [
    "# Rename some values in ghgperkgproduced2\n",
    "ghgpertproduced2['Food Type'] = ghgpertproduced2['Food Type'].replace('Pig meat', 'Pig Meat')\n",
    "ghgpertproduced2['Food Type'] = ghgpertproduced2['Food Type'].replace('Poultry meat', 'Poultry Meat')\n",
    "ghgpertproduced2['Food Type'] = ghgpertproduced2['Food Type'].replace('Sheep and Goat meat', 'Sheep and Goat Meat')\n",
    "ghgpertproduced2['Food Type'] = ghgpertproduced2['Food Type'].replace('Palm oil', 'Palm Oil')\n",
    "\n",
    "#ghgpertproduced2"
   ]
  },
  {
   "cell_type": "code",
   "execution_count": 26,
   "id": "e5c7d737",
   "metadata": {},
   "outputs": [],
   "source": [
    "ghgpertproduced2 = ghgpertproduced2.pivot_table(index=np.repeat(0, len(ghgpertproduced2)), columns='Food Type', values='GHG Emissions per 1 t Produced', aggfunc='sum')\n",
    "#ghgpertproduced2"
   ]
  },
  {
   "cell_type": "code",
   "execution_count": 27,
   "id": "0628396e",
   "metadata": {},
   "outputs": [],
   "source": [
    "summary_table.reset_index(inplace=True)\n",
    "#summary_table"
   ]
  },
  {
   "cell_type": "code",
   "execution_count": 28,
   "id": "6c40891e",
   "metadata": {},
   "outputs": [],
   "source": [
    "ghgperkgfinal = pd.DataFrame()\n",
    "\n",
    "# Multiply each row of summary_table by the single row of ghgpertproduced2\n",
    "ghgperkgfinal = summary_table.mul(ghgpertproduced2.squeeze(), axis=1)\n",
    "\n",
    "# Drop the column 'Year'\n",
    "ghgperkgfinal = ghgperkgfinal.drop(columns=['Year'])\n",
    "\n",
    "# Extract 'Year' column from summary_table\n",
    "year_column = summary_table['Year']\n",
    "\n",
    "# Concatenate 'Year' column with ghgperkgfinal\n",
    "ghgperkgfinal = pd.concat([year_column, ghgperkgfinal], axis=1)\n",
    "\n",
    "#ghgperkgfinal.head()"
   ]
  },
  {
   "cell_type": "code",
   "execution_count": 29,
   "id": "262a08a7",
   "metadata": {},
   "outputs": [],
   "source": [
    "#ghgperkgfinal.columns"
   ]
  },
  {
   "cell_type": "code",
   "execution_count": 30,
   "id": "478d56c6",
   "metadata": {},
   "outputs": [],
   "source": [
    "# Set 'Year' column as the index\n",
    "ghgperkgfinal = ghgperkgfinal.set_index('Year')\n",
    "\n",
    "#ghgperkgfinal.head()"
   ]
  },
  {
   "cell_type": "code",
   "execution_count": 31,
   "id": "9d21fe1d",
   "metadata": {},
   "outputs": [],
   "source": [
    "# Convert the values from tons to thousand tons\n",
    "for column in ghgperkgfinal.columns:\n",
    "    if column != 'Year':\n",
    "        ghgperkgfinal[column] = ghgperkgfinal[column]/1000000\n",
    "\n",
    "ghgpermtfinal = ghgperkgfinal.copy()\n",
    "#ghgpermtfinal"
   ]
  },
  {
   "cell_type": "code",
   "execution_count": 32,
   "id": "49f0cf4b",
   "metadata": {},
   "outputs": [],
   "source": [
    "#ghgpermtfinal.columns"
   ]
  },
  {
   "cell_type": "code",
   "execution_count": 33,
   "id": "d25fcde3",
   "metadata": {},
   "outputs": [],
   "source": [
    "land_used_per_kg = pd.read_csv(r\"land_use_per_kg.csv\")\n",
    "\n",
    "land_used_per_kg = land_used_per_kg.rename(columns={'Entity': 'Food', 'Land use per kilogram (Poore & Nemecek, 2018)': 'Land use per kilogram'})\n",
    "#land_used_per_kg"
   ]
  },
  {
   "cell_type": "code",
   "execution_count": 34,
   "id": "bb2a5e1f",
   "metadata": {},
   "outputs": [],
   "source": [
    "water_used = pd.read_csv(r\"water_withdrawals_per_kg.csv\")\n",
    "\n",
    "water_used = water_used.rename(columns={'Entity': 'Food', 'Freshwater withdrawals per kilogram (Poore & Nemecek, 2018)': 'Freshwater withdrawals (liters) per kilogram'})\n",
    "#water_used "
   ]
  },
  {
   "cell_type": "code",
   "execution_count": 35,
   "id": "4258f7b8",
   "metadata": {},
   "outputs": [],
   "source": [
    "#crops_prod_data['Item'].unique()"
   ]
  },
  {
   "cell_type": "code",
   "execution_count": 36,
   "id": "28e14152",
   "metadata": {},
   "outputs": [],
   "source": [
    "# Divide the dataframe \n",
    "crops_production_data_def2 = crops_production_data_def[['Apples', 'Bananas', 'Coffee', 'Maize', 'Potatoes', 'Rice', 'Rye', 'Sugar cane', 'Tomatoes', 'Wheat', 'Sugar beet']]\n",
    "livestock_primary_data_def2 = livestock_primary_data_def[['Beef and Buffalo Meat', 'Poultry Meat', 'Pig Meat', 'Sheep and Goat Meat', 'Milk', 'Eggs']]\n",
    "\n",
    "# Perform left join on 'Year' column\n",
    "summary_table1 = pd.merge(livestock_primary_data_def2, crops_production_data_def2, on='Year', how='left')\n",
    "#summary_table1.head()"
   ]
  },
  {
   "cell_type": "code",
   "execution_count": 37,
   "id": "232d826f",
   "metadata": {},
   "outputs": [],
   "source": [
    "summary_table2 = summary_table1.loc[[2018]]\n",
    "summary_table2.reset_index(inplace=True)\n",
    "#summary_table2"
   ]
  },
  {
   "cell_type": "code",
   "execution_count": 38,
   "id": "eabadde0",
   "metadata": {},
   "outputs": [],
   "source": [
    "# Perform left join\n",
    "summary_table1 = pd.merge(livestock_primary_data_def, crops_production_data_def, on=\"Year\", how=\"left\")\n",
    "#summary_table1"
   ]
  },
  {
   "cell_type": "code",
   "execution_count": 39,
   "id": "76d3e53d",
   "metadata": {},
   "outputs": [],
   "source": [
    "summary_table2 = summary_table1.loc[[2018]]\n",
    "summary_table2.reset_index(inplace=True)\n",
    "#summary_table2"
   ]
  },
  {
   "cell_type": "code",
   "execution_count": 40,
   "id": "5b47ff53",
   "metadata": {},
   "outputs": [],
   "source": [
    "#summary_table2.columns"
   ]
  },
  {
   "cell_type": "code",
   "execution_count": 41,
   "id": "d65735cd",
   "metadata": {},
   "outputs": [],
   "source": [
    "# Pivot the DataFrame longer\n",
    "summary_table_def = summary_table2.melt(id_vars=[\"Year\"],\n",
    "                                        value_vars=['Global Meat', 'Beef and Buffalo Meat', 'Poultry Meat',\n",
    "       'Pig Meat', 'Sheep and Goat Meat', 'Milk', 'Eggs', 'Apples', 'Avocados',\n",
    "       'Bananas', 'Barley', 'Cashew nuts', 'Cereals', 'Coffee', 'Maize',\n",
    "       'Palm Oil', 'Green Beans', 'Dry Peas', 'Potatoes', 'Rapeseed', 'Rice',\n",
    "       'Rye', 'Soybeans', 'Sugar beet', 'Sugar cane', 'Sunflower seed', 'Tea',\n",
    "       'Tomatoes', 'Wheat'], \n",
    "                                        var_name=\"Food\", value_name=\"Tonnes\")\n",
    "\n",
    "#summary_table_def"
   ]
  },
  {
   "cell_type": "code",
   "execution_count": 42,
   "id": "e6a9e0dc",
   "metadata": {},
   "outputs": [],
   "source": [
    "#summary_table_def['Food'].unique()"
   ]
  },
  {
   "cell_type": "code",
   "execution_count": 43,
   "id": "e29bf9c3",
   "metadata": {},
   "outputs": [],
   "source": [
    "# Pivot water_used2 wider\n",
    "water_used2 = water_used.pivot(columns='Food', values='Freshwater withdrawals (liters) per kilogram')\n",
    "\n",
    "# Rename index\n",
    "water_used2.rename_axis(None, axis=1, inplace=True)\n",
    "\n",
    "# Fill NaN values with zeros\n",
    "water_used2.fillna(0, inplace=True)\n",
    "\n",
    "# Sum along the columns to get a single row\n",
    "total_row = water_used2.sum()\n",
    "\n",
    "# Convert the Series to a DataFrame with one row\n",
    "water_used2 = pd.DataFrame(total_row).T\n",
    "\n",
    "#water_used2"
   ]
  },
  {
   "cell_type": "code",
   "execution_count": 44,
   "id": "5666f09d",
   "metadata": {},
   "outputs": [],
   "source": [
    "#water_used2.columns"
   ]
  },
  {
   "cell_type": "code",
   "execution_count": 45,
   "id": "913c2928",
   "metadata": {},
   "outputs": [],
   "source": [
    "# Rename columns and pivot longer again\n",
    "water_used3 = water_used2.rename(columns={'Beef (beef herd)': 'Beef and Buffalo Meat', \"Beet Sugar\": \"Sugar beet\", \"Cane Sugar\": \"Sugar cane\",\n",
    "                                          \"Lamb & Mutton\": \"Sheep and Goat Meat\"}) \\\n",
    "                            .melt(value_vars=['Apples', 'Bananas', 'Barley', 'Beef and Buffalo Meat',\n",
    "       'Sugar beet', 'Berries & Grapes', 'Brassicas', 'Sugar cane', 'Cassava',\n",
    "       'Cheese', 'Citrus Fruit', 'Coffee', 'Dark Chocolate', 'Eggs',\n",
    "       'Fish (farmed)', 'Groundnuts', 'Sheep and Goat Meat', 'Maize', 'Milk', 'Nuts',\n",
    "       'Oatmeal', 'Onions & Leeks', 'Other Fruit', 'Other Pulses',\n",
    "       'Other Vegetables', 'Peas', 'Pig Meat', 'Potatoes', 'Poultry Meat',\n",
    "       'Prawns (farmed)', 'Rice', 'Root Vegetables',\n",
    "       'Tomatoes', 'Wheat & Rye', 'Wine'], \n",
    "                                  var_name=\"Food\", value_name=\"Freshwater withdrawals (liters) per kilogram\")\n",
    "\n"
   ]
  },
  {
   "cell_type": "code",
   "execution_count": 46,
   "id": "5076b206",
   "metadata": {},
   "outputs": [],
   "source": [
    "# Inner join with summary_table_def\n",
    "water_2018 = pd.merge(water_used3, summary_table_def, on=\"Food\", how=\"inner\")\n",
    "\n",
    "# Calculate total freshwater withdrawals\n",
    "water_per_food_2018 = water_2018.assign(Freshwater_withdrawals_liters=lambda x: x['Freshwater withdrawals (liters) per kilogram'] *1000 + x['Tonnes'])[['Food', 'Freshwater_withdrawals_liters']]"
   ]
  },
  {
   "cell_type": "code",
   "execution_count": 47,
   "id": "823eb5cf",
   "metadata": {},
   "outputs": [],
   "source": [
    "#water_2018"
   ]
  },
  {
   "cell_type": "code",
   "execution_count": 48,
   "id": "816ea553",
   "metadata": {},
   "outputs": [],
   "source": [
    "#water_per_food_2018"
   ]
  },
  {
   "cell_type": "code",
   "execution_count": 49,
   "id": "eaf14d24",
   "metadata": {},
   "outputs": [],
   "source": [
    "water_used_per_t = water_used.copy()\n",
    "water_used_per_t['Freshwater withdrawals (liters) per kilogram'] = water_used_per_t['Freshwater withdrawals (liters) per kilogram']*1000\n",
    "\n",
    "water_used_per_t = water_used_per_t.rename(columns={'Freshwater withdrawals (liters) per kilogram': 'Freshwater withdrawals (liters) per tonnes'})\n",
    "#water_used_per_t.head()"
   ]
  },
  {
   "cell_type": "code",
   "execution_count": 50,
   "id": "f8b2e14f",
   "metadata": {},
   "outputs": [],
   "source": [
    "water_used_per_t = water_used_per_t.pivot_table(index=np.repeat(0, len(water_used_per_t)), columns='Food', values='Freshwater withdrawals (liters) per tonnes', aggfunc='sum')\n",
    "#water_used_per_t"
   ]
  },
  {
   "cell_type": "code",
   "execution_count": 51,
   "id": "85a12275",
   "metadata": {},
   "outputs": [],
   "source": [
    "daily_protein = pd.read_csv(r\"daily-protein-supply-from-animal-and-plant-based-foods.csv\")\n",
    "#daily_protein.head()"
   ]
  },
  {
   "cell_type": "code",
   "execution_count": 52,
   "id": "94b96738",
   "metadata": {},
   "outputs": [],
   "source": [
    "#daily_protein['Entity'].unique()"
   ]
  },
  {
   "cell_type": "code",
   "execution_count": 53,
   "id": "52125f06",
   "metadata": {},
   "outputs": [],
   "source": [
    "daily_protein = daily_protein.drop('Code', axis=1)\n",
    "\n",
    "entities_to_keep = ['Europe', 'Africa', 'South America', 'North America', 'Asia', 'Oceania', 'Australia', 'Austria',\n",
    "                   'Belgium', 'Cambodia', 'Cameroon', 'Canada', 'Chile', 'China', 'Colombia', 'Comoros', 'Congo',\n",
    "                    'Costa Rica', \"Cote d'Ivoire\", 'Croatia', 'Cuba', 'Denmark', 'Ecuador', 'Egypt', 'Finland', 'France', \n",
    "                    'Georgia', 'Germany', 'Ghana', 'Greece', 'Iceland', 'India', 'Indonesia', 'Iran', 'Iraq', 'Ireland',\n",
    "                    'Israel', 'Italy', 'Jamaica', 'Japan', 'Jordan', 'Kazakhstan', 'Kenya', 'Kiribati', 'Kuwait', 'Portugal', \n",
    "                    'Qatar', 'Romania', 'Russia', 'Switzerland', 'Syria', 'Taiwan', 'Tajikistan', 'Tanzania', 'Thailand', \n",
    "                    'United Kingdom', 'United States', 'Venezuela', 'Vietnam', 'World']\n",
    "daily_protein_filtered = daily_protein[daily_protein['Entity'].isin(entities_to_keep)]\n",
    "\n",
    "daily_prot = daily_protein_filtered.rename(columns={'Animal Products | 00002941 || Food available for consumption | 0674pc || grams of protein per day per capita':'Animal Protein (in g/day)',\n",
    "                                                   'Vegetal Products | 00002903 || Food available for consumption | 0674pc || grams of protein per day per capita':'Vegetal Protein (in g/day)',\n",
    "                                                   'Entity':'Region'})\n",
    "\n",
    "#daily_prot.head()"
   ]
  },
  {
   "cell_type": "code",
   "execution_count": 56,
   "id": "975c8b1c",
   "metadata": {},
   "outputs": [],
   "source": [
    "import ipywidgets as widgets\n",
    "from IPython.display import display\n",
    "\n",
    "# Create dropdown for selecting region\n",
    "region_selector = widgets.Dropdown(\n",
    "    options=daily_prot['Region'].unique(),\n",
    "    value='Africa',\n",
    "    description='Select Region:'\n",
    ")\n",
    "\n",
    "# Create output widget for the plot\n",
    "plot_output = widgets.Output()\n",
    "\n",
    "# Function to update the plot\n",
    "def update_plot(change):\n",
    "    selected_region = change['new']\n",
    "    filtered_df = daily_prot[daily_prot['Region'] == selected_region]\n",
    "    \n",
    "    fig = px.line(filtered_df, x='Year', y=['Animal Protein (in g/day)', 'Vegetal Protein (in g/day)'],\n",
    "                  labels={'value': 'Protein (in g/day)', 'variable': 'Protein Type'},\n",
    "                  title=f'Protein Consumption in {selected_region}')\n",
    "    with plot_output:\n",
    "        plot_output.clear_output(wait=True)\n",
    "        display(fig)\n",
    "\n",
    "# Attach the update function to the dropdown\n",
    "region_selector.observe(update_plot, names='value')\n",
    "\n",
    "# Display the widgets\n",
    "#display(region_selector)\n",
    "#display(plot_output)\n",
    "\n",
    "# Initialize the plot\n",
    "#update_plot({'new': region_selector.value})\n"
   ]
  },
  {
   "cell_type": "code",
   "execution_count": null,
   "id": "d63cc843",
   "metadata": {},
   "outputs": [],
   "source": []
  },
  {
   "cell_type": "code",
   "execution_count": 57,
   "id": "6965167b",
   "metadata": {},
   "outputs": [],
   "source": [
    "# Resetting 'Year' index to make it a column\n",
    "ghgevol_df.reset_index(inplace=True)\n",
    "\n",
    "ghgevol_df = pd.DataFrame(ghgevol_df)\n",
    "#ghgevol_df"
   ]
  },
  {
   "cell_type": "code",
   "execution_count": 58,
   "id": "6ea893e4",
   "metadata": {},
   "outputs": [],
   "source": [
    "# Pivoting the DataFrame\n",
    "ghgevol = ghgevol_df.melt(id_vars='Year', \n",
    "                           value_vars=['Agriculture', 'Land-Use Change&Forestry', 'Waste',\n",
    "                                       'Buildings', 'Industry', 'Manufacturing/Construction energy',\n",
    "                                       'Transport', 'Electricity & Heat', 'Fugitive from energy production',\n",
    "                                       'Other Fuel Combustion', 'Bunker Fuels'], \n",
    "                           var_name='Sector', \n",
    "                           value_name='GHGemissions')\n",
    "\n",
    "# Sorting the DataFrame by 'Year'\n",
    "ghgevol.sort_values(by='Year', inplace=True)\n",
    "#ghgevol"
   ]
  },
  {
   "cell_type": "code",
   "execution_count": 60,
   "id": "4105e018",
   "metadata": {},
   "outputs": [],
   "source": [
    "#fig_ghgevol = px.line(ghgevol, x='Year', y='GHGemissions', color='Sector', \n",
    "#              title='Worldwide evolution of Greenhouse gas emissions by Sector',\n",
    "#              labels={'year': 'Year', 'GHGemissions': 'GHG emissions (in t of CO2e)'},\n",
    "#              color_discrete_sequence=px.colors.qualitative.Set1)  # Using Set1 color palette\n",
    "\n",
    "#fig_ghgevol.update_traces(mode='markers+lines', marker=dict(size=5))\n",
    "\n",
    "#fig_ghgevol.update_layout(height=500, width=800, margin=dict(l=40, r=40, t=80, b=40), plot_bgcolor='rgba(0,0,0,0)')\n",
    "\n",
    "#fig_ghgevol.update_xaxes(showgrid=True, gridcolor='lightgray')\n",
    "#fig_ghgevol.update_yaxes(showgrid=True, gridcolor='lightgray')\n",
    "\n",
    "#fig_ghgevol.show()"
   ]
  },
  {
   "cell_type": "code",
   "execution_count": 61,
   "id": "5896188e",
   "metadata": {},
   "outputs": [],
   "source": [
    "# Resetting 'Year' index to make it a column\n",
    "ch4evol_def.reset_index(inplace=True)\n",
    "\n",
    "# Pivoting the DataFrame\n",
    "ch4evol = ch4evol_def.melt(id_vars='Year', \n",
    "                           value_vars=['Agriculture', 'Fugitive from energy production', 'Waste',\n",
    "                                       'Land-Use Change&Forestry',\n",
    "                                       'Methane emissions from other fuel combustion', 'Industry'], \n",
    "                           var_name='Sector', \n",
    "                           value_name='Methane emissions')\n",
    "\n",
    "# Sorting the DataFrame by 'Year'\n",
    "ch4evol.sort_values(by='Year', inplace=True)\n",
    "#ch4evol"
   ]
  },
  {
   "cell_type": "code",
   "execution_count": 65,
   "id": "b6d85636",
   "metadata": {},
   "outputs": [],
   "source": [
    "#fig_ch4 = px.line(ch4evol, x='Year', y='Methane emissions', color='Sector', \n",
    "#              title='Worldwide evolution of Methane emissions by Sector',\n",
    "#              labels={'year': 'Year', 'Methane emissions': 'CH4 emissions (in t of CO2e)'},\n",
    "#              color_discrete_sequence=px.colors.qualitative.Set1)  \n",
    "\n",
    "#fig_ch4.update_traces(mode='markers+lines', marker=dict(size=5))\n",
    "\n",
    "#fig_ch4.update_layout(height=500, width=800, margin=dict(l=40, r=40, t=80, b=40), plot_bgcolor='rgba(0,0,0,0)')\n",
    "\n",
    "#fig_ch4.update_xaxes(showgrid=True, gridcolor='lightgray')\n",
    "#fig_ch4.update_yaxes(showgrid=True, gridcolor='lightgray')\n",
    "\n",
    "#fig_ch4.show()"
   ]
  },
  {
   "cell_type": "code",
   "execution_count": 66,
   "id": "04767eb1",
   "metadata": {},
   "outputs": [],
   "source": [
    "n2obysector_def.reset_index(inplace=True)\n",
    "\n",
    "# Pivoting the DataFrame\n",
    "n2obysector = n2obysector_def.melt(id_vars='Year', \n",
    "                           value_vars=['Agriculture', 'Industry', 'Other Fuel Combustion', 'Waste',\n",
    "                                       'Land-Use Change&Forestry', 'Fugitive from energy production'], \n",
    "                           var_name='Sector', \n",
    "                           value_name='Nitrous Oxide emissions')\n",
    "\n",
    "# Sorting the DataFrame by 'Year'\n",
    "n2obysector.sort_values(by='Year', inplace=True)\n",
    "#n2obysector"
   ]
  },
  {
   "cell_type": "code",
   "execution_count": 67,
   "id": "0ae7e1dc",
   "metadata": {},
   "outputs": [],
   "source": [
    "#fig_n2o = px.line(n2obysector, x='Year', y='Nitrous Oxide emissions', color='Sector', \n",
    "#              title='Worldwide evolution of Nitrous Oxide emissions by Sector',\n",
    "#              labels={'year': 'Year', 'Nitrous Oxide emissions': 'N2O emissions (in t of CO2e)'},\n",
    "#              color_discrete_sequence=px.colors.qualitative.Set1)  \n",
    "\n",
    "#fig_n2o.update_traces(mode='markers+lines', marker=dict(size=5))\n",
    "\n",
    "#fig_n2o.update_layout(height=500, width=800, margin=dict(l=40, r=40, t=80, b=40), plot_bgcolor='rgba(0,0,0,0)')\n",
    "\n",
    "#fig_n2o.update_xaxes(showgrid=True, gridcolor='lightgray')\n",
    "#fig_n2o.update_yaxes(showgrid=True, gridcolor='lightgray')\n",
    "\n",
    "#fig_n2o.show()"
   ]
  },
  {
   "cell_type": "code",
   "execution_count": 68,
   "id": "69cb4b8d",
   "metadata": {},
   "outputs": [],
   "source": [
    "# Resetting 'Year' index to make it a column\n",
    "ghgpermtfinal.reset_index(inplace=True)\n",
    "\n",
    "# Pivot the DataFrame\n",
    "ghgperfood = ghgpermtfinal.melt(id_vars='Year',\n",
    "                                value_vars=['Bananas', 'Beef and Buffalo Meat', 'Coffee', 'Eggs', 'Maize', 'Milk',\n",
    "                                            'Palm Oil', 'Pig Meat', 'Poultry Meat', 'Rice', 'Rye',\n",
    "                                            'Sheep and Goat Meat', 'Sugar cane', 'Tomatoes', 'Wheat'],\n",
    "                                 var_name='Food_type', value_name='ghgemissionsperthousand_t')\n",
    "\n",
    "# Sorting the DataFrame by 'Year'\n",
    "ghgperfood.sort_values(by='Year', inplace=True)\n",
    "#ghgperfood"
   ]
  },
  {
   "cell_type": "code",
   "execution_count": 62,
   "id": "0a094017",
   "metadata": {},
   "outputs": [
    {
     "data": {
      "application/vnd.plotly.v1+json": {
       "config": {
        "plotlyServerURL": "https://plot.ly"
       },
       "data": [
        {
         "hovertemplate": "Food_type=Bananas<br>Year=%{x}<br>GHG emissions (in thousands t of CO2e)=%{y}<extra></extra>",
         "legendgroup": "Bananas",
         "line": {
          "color": "rgb(228,26,28)",
          "dash": "solid"
         },
         "marker": {
          "size": 5,
          "symbol": "circle"
         },
         "mode": "markers+lines",
         "name": "Bananas",
         "orientation": "v",
         "showlegend": true,
         "type": "scatter",
         "x": [
          1961,
          1962,
          1963,
          1964,
          1965,
          1966,
          1967,
          1968,
          1969,
          1970,
          1971,
          1972,
          1973,
          1974,
          1975,
          1976,
          1977,
          1978,
          1979,
          1980,
          1981,
          1982,
          1983,
          1984,
          1985,
          1986,
          1987,
          1988,
          1989,
          1990,
          1991,
          1992,
          1993,
          1994,
          1995,
          1996,
          1997,
          1998,
          1999,
          2000,
          2001,
          2002,
          2003,
          2004,
          2005,
          2006,
          2007,
          2008,
          2009,
          2010,
          2011,
          2012,
          2013,
          2014,
          2015,
          2016,
          2017,
          2018,
          2019,
          2020,
          2021,
          2022
         ],
         "xaxis": "x",
         "y": [
          15697.1752,
          16334.7464,
          16689.4168,
          17934.9198,
          19415.8524,
          19659.5077,
          20388.1769,
          21270.0369,
          22337.3395,
          23197.8691,
          23968.0392,
          24168.5864,
          23006.9861,
          23458.2173,
          23197.6857,
          24033.3268,
          25262.8166,
          25577.4953,
          26285.182,
          27368.5475,
          27906.242,
          28379.2054,
          27473.9955,
          28962.7401,
          29760.3509,
          31565.3415,
          32704.3493,
          33071.493,
          33484.3369,
          34955.2,
          35434.511,
          38536.1452,
          39054.1312,
          40231.0391,
          40713.6247,
          40205.6543,
          43520.5302,
          45023.4463,
          48545.7567,
          46621.799,
          48607.7277,
          50607.9784,
          52028.3365,
          55150.6823,
          58127.2944,
          61620.755,
          65495.5343,
          68515.1355,
          71750.035,
          76604.2837,
          76992.3231,
          76043.4906,
          78199.4451,
          78403.2116,
          80072.5751,
          77947.4696,
          79233.9149,
          82043.2186,
          82137.9818,
          88716.5986,
          92457.5211,
          94578.6282
         ],
         "yaxis": "y"
        },
        {
         "hovertemplate": "Food_type=Pig Meat<br>Year=%{x}<br>GHG emissions (in thousands t of CO2e)=%{y}<extra></extra>",
         "legendgroup": "Pig Meat",
         "line": {
          "color": "rgb(55,126,184)",
          "dash": "solid"
         },
         "marker": {
          "size": 5,
          "symbol": "circle"
         },
         "mode": "markers+lines",
         "name": "Pig Meat",
         "orientation": "v",
         "showlegend": true,
         "type": "scatter",
         "x": [
          1961,
          1962,
          1963,
          1964,
          1965,
          1966,
          1967,
          1968,
          1969,
          1970,
          1971,
          1972,
          1973,
          1974,
          1975,
          1976,
          1977,
          1978,
          1979,
          1980,
          1981,
          1982,
          1983,
          1984,
          1985,
          1986,
          1987,
          1988,
          1989,
          1990,
          1991,
          1992,
          1993,
          1994,
          1995,
          1996,
          1997,
          1998,
          1999,
          2000,
          2001,
          2002,
          2003,
          2004,
          2005,
          2006,
          2007,
          2008,
          2009,
          2010,
          2011,
          2012,
          2013,
          2014,
          2015,
          2016,
          2017,
          2018,
          2019,
          2020,
          2021,
          2022
         ],
         "xaxis": "x",
         "y": [
          173229.112,
          182380.625,
          196107.135,
          200736.634,
          218983.086,
          226875.775,
          237042.365,
          240806.636,
          238842.45,
          250564.489,
          275915.99,
          284358.536,
          283288.306,
          297008.299,
          291688.432,
          285252.751,
          300633.599,
          319489.506,
          350586.103,
          368718.651,
          370928.586,
          372369.879,
          388337.999,
          402404.45,
          419756.953,
          425044.025,
          443956.03,
          468265.364,
          475817.566,
          487907.861,
          495069.554,
          509975.676,
          526810.459,
          551231.317,
          583732.072,
          551163.368,
          578500.839,
          617589.931,
          631332.338,
          624681.519,
          630749.861,
          646991.366,
          664202.112,
          670991.23,
          687192.296,
          700186.473,
          690754.071,
          719611.543,
          736989.834,
          757222.865,
          761691.784,
          786113.594,
          799799.07,
          814505.321,
          830340.154,
          825413.834,
          831801.243,
          833459.13,
          757310.421,
          757801.541,
          846806.072,
          858097.779
         ],
         "yaxis": "y"
        },
        {
         "hovertemplate": "Food_type=Poultry Meat<br>Year=%{x}<br>GHG emissions (in thousands t of CO2e)=%{y}<extra></extra>",
         "legendgroup": "Poultry Meat",
         "line": {
          "color": "rgb(77,175,74)",
          "dash": "solid"
         },
         "marker": {
          "size": 5,
          "symbol": "circle"
         },
         "mode": "markers+lines",
         "name": "Poultry Meat",
         "orientation": "v",
         "showlegend": true,
         "type": "scatter",
         "x": [
          1961,
          1962,
          1963,
          1964,
          1965,
          1966,
          1967,
          1968,
          1969,
          1970,
          1971,
          1972,
          1973,
          1974,
          1975,
          1976,
          1977,
          1978,
          1979,
          1980,
          1981,
          1982,
          1983,
          1984,
          1985,
          1986,
          1987,
          1988,
          1989,
          1990,
          1991,
          1992,
          1993,
          1994,
          1995,
          1996,
          1997,
          1998,
          1999,
          2000,
          2001,
          2002,
          2003,
          2004,
          2005,
          2006,
          2007,
          2008,
          2009,
          2010,
          2011,
          2012,
          2013,
          2014,
          2015,
          2016,
          2017,
          2018,
          2019,
          2020,
          2021,
          2022
         ],
         "xaxis": "x",
         "y": [
          53693.652,
          55230.336,
          58492.332,
          60844.458,
          65767.56,
          70091.838,
          74300.4,
          76693.47,
          82390.62,
          90570.222,
          94387.254,
          100992.714,
          105726.246,
          109779.186,
          112041.69,
          120151.23,
          127377.252,
          136221.57,
          147339.714,
          155676.066,
          165053.664,
          170769.648,
          175195.26,
          178642.656,
          187081.266,
          199920.93,
          215781,
          226364.076,
          231990.228,
          245878.368,
          262712.838,
          275961.126,
          293616.798,
          310383.498,
          331879.8,
          343218.636,
          364874.052,
          380133.204,
          396522.468,
          411952.788,
          427762.374,
          447341.388,
          456565.266,
          471698.568,
          488446.764,
          500833.59,
          531000.312,
          556232.574,
          568726.932,
          594968.424,
          618960.516,
          642979.248,
          660750.216,
          679352.868,
          704566.638,
          723567.072,
          747775.038,
          767081.478,
          801604.458,
          809265.144,
          818520.744,
          835315.38
         ],
         "yaxis": "y"
        },
        {
         "hovertemplate": "Food_type=Coffee<br>Year=%{x}<br>GHG emissions (in thousands t of CO2e)=%{y}<extra></extra>",
         "legendgroup": "Coffee",
         "line": {
          "color": "rgb(152,78,163)",
          "dash": "solid"
         },
         "marker": {
          "size": 5,
          "symbol": "circle"
         },
         "mode": "markers+lines",
         "name": "Coffee",
         "orientation": "v",
         "showlegend": true,
         "type": "scatter",
         "x": [
          1961,
          1962,
          1963,
          1964,
          1965,
          1966,
          1967,
          1968,
          1969,
          1970,
          1971,
          1972,
          1973,
          1974,
          1975,
          1976,
          1977,
          1978,
          1979,
          1980,
          1981,
          1982,
          1983,
          1984,
          1985,
          1986,
          1987,
          1988,
          1989,
          1990,
          1991,
          1992,
          1993,
          1994,
          1995,
          1996,
          1997,
          1998,
          1999,
          2000,
          2001,
          2002,
          2003,
          2004,
          2005,
          2006,
          2007,
          2008,
          2009,
          2010,
          2011,
          2012,
          2013,
          2014,
          2015,
          2016,
          2017,
          2018,
          2019,
          2020,
          2021,
          2022
         ],
         "xaxis": "x",
         "y": [
          76973.892,
          77934.307,
          70586.159,
          64079.613,
          84686.673,
          68887.927,
          73655.577,
          66919.582,
          72630.783,
          65443.846,
          79275.675,
          77702.036,
          71157.308,
          81092.431,
          78254.553,
          59882.636,
          74789.647,
          80328.162,
          84542.53,
          82266.723,
          103414.706,
          83994.909,
          94895.36,
          88765.568,
          99017.01,
          89032.808,
          108547.652,
          95973.347,
          100436.697,
          103072.632,
          103069.776,
          103467.865,
          94434.099,
          97286.206,
          93995.635,
          105360.764,
          103226.38,
          112755.203,
          115443.141,
          127479.209,
          125458.912,
          134784.602,
          119664.564,
          133669.266,
          125665.581,
          138513.399,
          138288.642,
          144326.413,
          132222.906,
          143829.554,
          142285.512,
          149575.945,
          150265.567,
          148469.721,
          150167.324,
          158741.376,
          158166.164,
          179510.701,
          176006.355,
          191154.681,
          178455.902,
          183299.661
         ],
         "yaxis": "y"
        },
        {
         "hovertemplate": "Food_type=Eggs<br>Year=%{x}<br>GHG emissions (in thousands t of CO2e)=%{y}<extra></extra>",
         "legendgroup": "Eggs",
         "line": {
          "color": "rgb(255,127,0)",
          "dash": "solid"
         },
         "marker": {
          "size": 5,
          "symbol": "circle"
         },
         "mode": "markers+lines",
         "name": "Eggs",
         "orientation": "v",
         "showlegend": true,
         "type": "scatter",
         "x": [
          1961,
          1962,
          1963,
          1964,
          1965,
          1966,
          1967,
          1968,
          1969,
          1970,
          1971,
          1972,
          1973,
          1974,
          1975,
          1976,
          1977,
          1978,
          1979,
          1980,
          1981,
          1982,
          1983,
          1984,
          1985,
          1986,
          1987,
          1988,
          1989,
          1990,
          1991,
          1992,
          1993,
          1994,
          1995,
          1996,
          1997,
          1998,
          1999,
          2000,
          2001,
          2002,
          2003,
          2004,
          2005,
          2006,
          2007,
          2008,
          2009,
          2010,
          2011,
          2012,
          2013,
          2014,
          2015,
          2016,
          2017,
          2018,
          2019,
          2020,
          2021,
          2022
         ],
         "xaxis": "x",
         "y": [
          67990.0455,
          69631.1415,
          70512.4575,
          73575.819,
          75830.859,
          77861.2275,
          81547.2495,
          83768.7285,
          87368.454,
          91582.1955,
          94752.4275,
          97691.2605,
          98753.211,
          101337.5475,
          104523.507,
          106362.441,
          111330.819,
          116141.373,
          119514.411,
          123316.4295,
          126066.1725,
          129423.933,
          131881.095,
          138484.2735,
          146228.211,
          151200.711,
          155197.224,
          162066.888,
          163372.8375,
          168139.269,
          176192.406,
          179071.2495,
          185787.594,
          201522.2625,
          211019.4675,
          224059.6035,
          224796.0555,
          232381.143,
          241055.9865,
          248350.1535,
          253452.249,
          259642.7865,
          264114.432,
          269939.6235,
          275609.8125,
          281319.1245,
          289519.4295,
          300330.684,
          306207.171,
          312740.8155,
          318748.5405,
          326374.344,
          334241.208,
          341396.631,
          351611.2215,
          361637.073,
          381741.273,
          387951.777,
          405097.515,
          420335.1225,
          419838.093,
          419271.5115
         ],
         "yaxis": "y"
        },
        {
         "hovertemplate": "Food_type=Maize<br>Year=%{x}<br>GHG emissions (in thousands t of CO2e)=%{y}<extra></extra>",
         "legendgroup": "Maize",
         "line": {
          "color": "rgb(255,255,51)",
          "dash": "solid"
         },
         "marker": {
          "size": 5,
          "symbol": "circle"
         },
         "mode": "markers+lines",
         "name": "Maize",
         "orientation": "v",
         "showlegend": true,
         "type": "scatter",
         "x": [
          1961,
          1962,
          1963,
          1964,
          1965,
          1966,
          1967,
          1968,
          1969,
          1970,
          1971,
          1972,
          1973,
          1974,
          1975,
          1976,
          1977,
          1978,
          1979,
          1980,
          1981,
          1982,
          1983,
          1984,
          1985,
          1986,
          1987,
          1988,
          1989,
          1990,
          1991,
          1992,
          1993,
          1994,
          1995,
          1996,
          1997,
          1998,
          1999,
          2000,
          2001,
          2002,
          2003,
          2004,
          2005,
          2006,
          2007,
          2008,
          2009,
          2010,
          2011,
          2012,
          2013,
          2014,
          2015,
          2016,
          2017,
          2018,
          2019,
          2020,
          2021,
          2022
         ],
         "xaxis": "x",
         "y": [
          205027.236,
          204876.636,
          220228.115,
          215172.391,
          226544.121,
          245599.1,
          272548.408,
          255670.482,
          269505.982,
          265831.067,
          313622.542,
          308826.205,
          318290.384,
          306427.262,
          341751.886,
          352395.781,
          371593.27,
          393600.005,
          418622.905,
          396623.299,
          446772.427,
          448932.182,
          347081.96,
          450449.905,
          485527.217,
          478176.534,
          453115.706,
          403050.141,
          476874.41,
          483387.901,
          494402.007,
          533776.874,
          477215.762,
          568654.838,
          517290.721,
          586137.227,
          584401.175,
          615071.304,
          607422.351,
          592019.783,
          615141.837,
          603538.033,
          645044.177,
          729502.872,
          714160.378,
          707891.204,
          793515.43,
          829776.428,
          820804.322,
          852693.615,
          887686.113,
          874613.898,
          1016672.048,
          1040424.659,
          1053833.197,
          1123613.865,
          1140319.593,
          1124325.183,
          1137729.775,
          1155754.012,
          1207996.141,
          1163497.383
         ],
         "yaxis": "y"
        },
        {
         "hovertemplate": "Food_type=Sheep and Goat Meat<br>Year=%{x}<br>GHG emissions (in thousands t of CO2e)=%{y}<extra></extra>",
         "legendgroup": "Sheep and Goat Meat",
         "line": {
          "color": "rgb(166,86,40)",
          "dash": "solid"
         },
         "marker": {
          "size": 5,
          "symbol": "circle"
         },
         "mode": "markers+lines",
         "name": "Sheep and Goat Meat",
         "orientation": "v",
         "showlegend": true,
         "type": "scatter",
         "x": [
          1961,
          1962,
          1963,
          1964,
          1965,
          1966,
          1967,
          1968,
          1969,
          1970,
          1971,
          1972,
          1973,
          1974,
          1975,
          1976,
          1977,
          1978,
          1979,
          1980,
          1981,
          1982,
          1983,
          1984,
          1985,
          1986,
          1987,
          1988,
          1989,
          1990,
          1991,
          1992,
          1993,
          1994,
          1995,
          1996,
          1997,
          1998,
          1999,
          2000,
          2001,
          2002,
          2003,
          2004,
          2005,
          2006,
          2007,
          2008,
          2009,
          2010,
          2011,
          2012,
          2013,
          2014,
          2015,
          2016,
          2017,
          2018,
          2019,
          2020,
          2021,
          2022
         ],
         "xaxis": "x",
         "y": [
          144737.976,
          147968.664,
          147886.08,
          147758.352,
          149057.232,
          151590.192,
          155810.52,
          160102.776,
          159560.712,
          163899.72,
          167036.376,
          168394.8,
          162803.112,
          157448.016,
          162957.984,
          163653.168,
          165241.944,
          169056.288,
          169035.864,
          176185.704,
          182927.808,
          185130.84,
          191988.96,
          194012.784,
          198275.496,
          200363.88,
          207954.456,
          217680.864,
          225617.28,
          233102.688,
          230574.456,
          233083.896,
          235609.08,
          240680.16,
          245710.296,
          238569.336,
          247431.12,
          258787.176,
          264230.232,
          270813.696,
          281418.552,
          281885.52,
          290080.704,
          298361.28,
          308374.152,
          312872.4,
          324946.392,
          324946.8,
          327714.24,
          329101.752,
          330904.104,
          332802.336,
          341448,
          350715.336,
          360116.76,
          366999.384,
          366858.168,
          370187.712,
          377958.912,
          385880.256,
          391486.896,
          399355.488
         ],
         "yaxis": "y"
        },
        {
         "hovertemplate": "Food_type=Tomatoes<br>Year=%{x}<br>GHG emissions (in thousands t of CO2e)=%{y}<extra></extra>",
         "legendgroup": "Tomatoes",
         "line": {
          "color": "rgb(247,129,191)",
          "dash": "solid"
         },
         "marker": {
          "size": 5,
          "symbol": "circle"
         },
         "mode": "markers+lines",
         "name": "Tomatoes",
         "orientation": "v",
         "showlegend": true,
         "type": "scatter",
         "x": [
          1961,
          1962,
          1963,
          1964,
          1965,
          1966,
          1967,
          1968,
          1969,
          1970,
          1971,
          1972,
          1973,
          1974,
          1975,
          1976,
          1977,
          1978,
          1979,
          1980,
          1981,
          1982,
          1983,
          1984,
          1985,
          1986,
          1987,
          1988,
          1989,
          1990,
          1991,
          1992,
          1993,
          1994,
          1995,
          1996,
          1997,
          1998,
          1999,
          2000,
          2001,
          2002,
          2003,
          2004,
          2005,
          2006,
          2007,
          2008,
          2009,
          2010,
          2011,
          2012,
          2013,
          2014,
          2015,
          2016,
          2017,
          2018,
          2019,
          2020,
          2021,
          2022
         ],
         "xaxis": "x",
         "y": [
          38664.2396,
          40785.227,
          39416.874,
          41757.5956,
          42643.748,
          44492.6048,
          46844.105,
          49463.3734,
          48386.9638,
          50237.6812,
          52808.4312,
          53827.6676,
          58278.5686,
          62688.654,
          65865.6348,
          63052.0128,
          65914.6768,
          71046.5588,
          76779.4342,
          73710.315,
          76035.5708,
          80613.7976,
          83363.1428,
          89713.5288,
          91486.696,
          91314.4064,
          92529.1066,
          94332.5334,
          104459.9626,
          106833.118,
          106244.0344,
          103228.4918,
          107904.0368,
          115469.5444,
          121137.1728,
          129824.688,
          125042.9544,
          133256.053,
          152692.4826,
          153167.6538,
          149639.8274,
          162343.7536,
          165835.7316,
          178168.6242,
          180116.1516,
          183085.714,
          192487.9866,
          198854.7428,
          218039.9914,
          215362.5166,
          224214.7978,
          229516.5894,
          232515.3852,
          245812.2674,
          248608.759,
          249864.7956,
          251339.2798,
          255150.5964,
          254559.907,
          259328.7382,
          264994.079,
          260551.1608
         ],
         "yaxis": "y"
        },
        {
         "hovertemplate": "Food_type=Sugar cane<br>Year=%{x}<br>GHG emissions (in thousands t of CO2e)=%{y}<extra></extra>",
         "legendgroup": "Sugar cane",
         "line": {
          "color": "rgb(153,153,153)",
          "dash": "solid"
         },
         "marker": {
          "size": 5,
          "symbol": "circle"
         },
         "mode": "markers+lines",
         "name": "Sugar cane",
         "orientation": "v",
         "showlegend": true,
         "type": "scatter",
         "x": [
          1961,
          1962,
          1963,
          1964,
          1965,
          1966,
          1967,
          1968,
          1969,
          1970,
          1971,
          1972,
          1973,
          1974,
          1975,
          1976,
          1977,
          1978,
          1979,
          1980,
          1981,
          1982,
          1983,
          1984,
          1985,
          1986,
          1987,
          1988,
          1989,
          1990,
          1991,
          1992,
          1993,
          1994,
          1995,
          1996,
          1997,
          1998,
          1999,
          2000,
          2001,
          2002,
          2003,
          2004,
          2005,
          2006,
          2007,
          2008,
          2009,
          2010,
          2011,
          2012,
          2013,
          2014,
          2015,
          2016,
          2017,
          2018,
          2019,
          2020,
          2021,
          2022
         ],
         "xaxis": "x",
         "y": [
          1343620.491,
          1310206.845,
          1319399.631,
          1441922.223,
          1593442.377,
          1594478.382,
          1556672.589,
          1518275.538,
          1614767.109,
          1825848.207,
          1746316.17,
          1707316.596,
          1800681.321,
          1945549.377,
          1967447.262,
          2061622.5,
          2204574.744,
          2323250.454,
          2310735.414,
          2203467.48,
          2398812.525,
          2721203.526,
          2711052.948,
          2789304.63,
          2799640.662,
          2804157.456,
          2970957.654,
          2978947.443,
          3053996.259,
          3158992.401,
          3259570.623,
          3322703.583,
          3062403.477,
          3253171.188,
          3489128.808,
          3656142.738,
          3738520.839,
          3791480.487,
          3846255.741,
          3758964.426,
          3772105.74,
          3980319.003,
          4115021.19,
          3999272.469,
          3918810.813,
          4251953.439,
          4806652.782,
          5149447.44,
          5017624.311,
          5027650.854,
          5369930.268,
          5482414.533,
          5704318.446,
          5656590.711,
          5621884.269,
          5639469.027,
          5501201.667,
          5792181.285,
          5868870.366,
          5633418.969,
          5585799.666,
          5766179.55
         ],
         "yaxis": "y"
        },
        {
         "hovertemplate": "Food_type=Palm Oil<br>Year=%{x}<br>GHG emissions (in thousands t of CO2e)=%{y}<extra></extra>",
         "legendgroup": "Palm Oil",
         "line": {
          "color": "rgb(228,26,28)",
          "dash": "solid"
         },
         "marker": {
          "size": 5,
          "symbol": "circle"
         },
         "mode": "markers+lines",
         "name": "Palm Oil",
         "orientation": "v",
         "showlegend": true,
         "type": "scatter",
         "x": [
          1961,
          1962,
          1963,
          1964,
          1965,
          1966,
          1967,
          1968,
          1969,
          1970,
          1971,
          1972,
          1973,
          1974,
          1975,
          1976,
          1977,
          1978,
          1979,
          1980,
          1981,
          1982,
          1983,
          1984,
          1985,
          1986,
          1987,
          1988,
          1989,
          1990,
          1991,
          1992,
          1993,
          1994,
          1995,
          1996,
          1997,
          1998,
          1999,
          2000,
          2001,
          2002,
          2003,
          2004,
          2005,
          2006,
          2007,
          2008,
          2009,
          2010,
          2011,
          2012,
          2013,
          2014,
          2015,
          2016,
          2017,
          2018,
          2019,
          2020,
          2021,
          2022
         ],
         "xaxis": "x",
         "y": [
          109090,
          105963.728,
          108637.448,
          108714.584,
          110332.048,
          109531.992,
          105164.544,
          112596.312,
          118166.888,
          121023.536,
          130549.816,
          133395.584,
          138565.096,
          155987.904,
          167771.344,
          170022.648,
          178248.2,
          198388.528,
          218529.776,
          238869.4,
          248000.376,
          286053.592,
          266362.576,
          323194.624,
          345791.648,
          375339.912,
          384721.512,
          423648.912,
          470852.872,
          487216.616,
          506478.312,
          538952.592,
          633346.032,
          653832.832,
          708789.864,
          748563.784,
          795774.792,
          793798.552,
          918108.736,
          966966.848,
          1034853.84,
          1082647.048,
          1202856.112,
          1307436.744,
          1460784.392,
          1572937.912,
          1550443.448,
          1709002.024,
          1733202.976,
          2169182.52,
          2371489.944,
          2471993.168,
          2605111.704,
          2619939.264,
          2688873.072,
          2673090.208,
          3262706.008,
          3302839.432,
          3328897.48,
          3329238.016,
          3324651.648,
          3396699.672
         ],
         "yaxis": "y"
        },
        {
         "hovertemplate": "Food_type=Rice<br>Year=%{x}<br>GHG emissions (in thousands t of CO2e)=%{y}<extra></extra>",
         "legendgroup": "Rice",
         "line": {
          "color": "rgb(55,126,184)",
          "dash": "solid"
         },
         "marker": {
          "size": 5,
          "symbol": "circle"
         },
         "mode": "markers+lines",
         "name": "Rice",
         "orientation": "v",
         "showlegend": true,
         "type": "scatter",
         "x": [
          1961,
          1962,
          1963,
          1964,
          1965,
          1966,
          1967,
          1968,
          1969,
          1970,
          1971,
          1972,
          1973,
          1974,
          1975,
          1976,
          1977,
          1978,
          1979,
          1980,
          1981,
          1982,
          1983,
          1984,
          1985,
          1986,
          1987,
          1988,
          1989,
          1990,
          1991,
          1992,
          1993,
          1994,
          1995,
          1996,
          1997,
          1998,
          1999,
          2000,
          2001,
          2002,
          2003,
          2004,
          2005,
          2006,
          2007,
          2008,
          2009,
          2010,
          2011,
          2012,
          2013,
          2014,
          2015,
          2016,
          2017,
          2018,
          2019,
          2020,
          2021,
          2022
         ],
         "xaxis": "x",
         "y": [
          862586.508,
          905825.164,
          988476.816,
          1051715.796,
          1016238.628,
          1044724.984,
          1109545.356,
          1154497.1,
          1182337.384,
          1265382.604,
          1270849.452,
          1229159.468,
          1339715.06,
          1327882.156,
          1427852.048,
          1390745.528,
          1477924.28,
          1540834.64,
          1501006.684,
          1587484.88,
          1640300.552,
          1687795.816,
          1792064.82,
          1861371.212,
          1872657.928,
          1874700.608,
          1845759.272,
          1949831.248,
          2057686.2,
          2074280.824,
          2072279.848,
          2116024.148,
          2117027.756,
          2158130.948,
          2190234.48,
          2275393.464,
          2309758.08,
          2316797.64,
          2446158.508,
          2395740.928,
          2402163.552,
          2285509.964,
          2350393.384,
          2430220.488,
          2538263.02,
          2562587.396,
          2621664.924,
          2743274.2,
          2725416.52,
          2786011.832,
          2888309.136,
          2917797.864,
          2945523.056,
          2951346.524,
          2936008.504,
          2961533.064,
          3004104.068,
          3062714.28,
          3015189.08,
          3090178.784,
          3156181.368,
          3105845.824
         ],
         "yaxis": "y"
        },
        {
         "hovertemplate": "Food_type=Milk<br>Year=%{x}<br>GHG emissions (in thousands t of CO2e)=%{y}<extra></extra>",
         "legendgroup": "Milk",
         "line": {
          "color": "rgb(77,175,74)",
          "dash": "solid"
         },
         "marker": {
          "size": 5,
          "symbol": "circle"
         },
         "mode": "markers+lines",
         "name": "Milk",
         "orientation": "v",
         "showlegend": true,
         "type": "scatter",
         "x": [
          1961,
          1962,
          1963,
          1964,
          1965,
          1966,
          1967,
          1968,
          1969,
          1970,
          1971,
          1972,
          1973,
          1974,
          1975,
          1976,
          1977,
          1978,
          1979,
          1980,
          1981,
          1982,
          1983,
          1984,
          1985,
          1986,
          1987,
          1988,
          1989,
          1990,
          1991,
          1992,
          1993,
          1994,
          1995,
          1996,
          1997,
          1998,
          1999,
          2000,
          2001,
          2002,
          2003,
          2004,
          2005,
          2006,
          2007,
          2008,
          2009,
          2010,
          2011,
          2012,
          2013,
          2014,
          2015,
          2016,
          2017,
          2018,
          2019,
          2020,
          2021,
          2022
         ],
         "xaxis": "x",
         "y": [
          1032510.819,
          1040505.888,
          1032829.311,
          1048419.546,
          1094394.129,
          1120354.401,
          1145359.482,
          1170181.209,
          1173419.316,
          1175782.998,
          1184953.293,
          1215700.746,
          1236471.147,
          1261204.959,
          1274151.12,
          1300616.946,
          1338850.176,
          1358119.398,
          1379185.392,
          1397391.189,
          1409397.579,
          1440002.868,
          1495552.416,
          1510141.122,
          1535116.989,
          1563832.68,
          1562740.359,
          1585073.046,
          1608662.298,
          1627346.55,
          1594784.802,
          1573018.965,
          1579073.844,
          1593694.815,
          1614602.76,
          1636564.005,
          1648245.747,
          1674981.432,
          1710966.765,
          1737477.399,
          1768325.922,
          1811792.703,
          1849648.479,
          1889776.734,
          1948569.522,
          1998604.515,
          2039689.959,
          2085901.86,
          2125584.252,
          2176016.094,
          2230166.586,
          2285283.003,
          2318304.315,
          2407645.845,
          2453005.815,
          2482848.837,
          2551567.593,
          2614720.74,
          2674873.422,
          2763868.242,
          2821829.706,
          2790885.039
         ],
         "yaxis": "y"
        },
        {
         "hovertemplate": "Food_type=Wheat<br>Year=%{x}<br>GHG emissions (in thousands t of CO2e)=%{y}<extra></extra>",
         "legendgroup": "Wheat",
         "line": {
          "color": "rgb(152,78,163)",
          "dash": "solid"
         },
         "marker": {
          "size": 5,
          "symbol": "circle"
         },
         "mode": "markers+lines",
         "name": "Wheat",
         "orientation": "v",
         "showlegend": true,
         "type": "scatter",
         "x": [
          1961,
          1962,
          1963,
          1964,
          1965,
          1966,
          1967,
          1968,
          1969,
          1970,
          1971,
          1972,
          1973,
          1974,
          1975,
          1976,
          1977,
          1978,
          1979,
          1980,
          1981,
          1982,
          1983,
          1984,
          1985,
          1986,
          1987,
          1988,
          1989,
          1990,
          1991,
          1992,
          1993,
          1994,
          1995,
          1996,
          1997,
          1998,
          1999,
          2000,
          2001,
          2002,
          2003,
          2004,
          2005,
          2006,
          2007,
          2008,
          2009,
          2010,
          2011,
          2012,
          2013,
          2014,
          2015,
          2016,
          2017,
          2018,
          2019,
          2020,
          2021,
          2022
         ],
         "xaxis": "x",
         "y": [
          311300.1234,
          350446.8044,
          326675.2622,
          376308.3198,
          369104.3482,
          425299.644,
          412014.2264,
          457581.5174,
          432096.3962,
          435037.3356,
          486535.8134,
          480202.0006,
          517067.7764,
          502355.6188,
          498128.6044,
          587815.2434,
          535187.3478,
          621382.832,
          592199.0214,
          616263.0614,
          629487.5804,
          667476.0526,
          685377.3934,
          717262.315,
          699338.3488,
          740159.3108,
          707106.1858,
          700919.1532,
          753488.5596,
          827862.1554,
          773261.202,
          785302.9366,
          788199.2202,
          746134.6508,
          751540.3434,
          799986.5048,
          866781.6906,
          830608.5396,
          814059.7318,
          822707.4226,
          823541.0204,
          828863.399,
          769964.2622,
          888532.4126,
          877829.1704,
          860134.3016,
          849232.0788,
          952412.9524,
          957094.0932,
          897123.6764,
          975656.9648,
          943222.6118,
          994238.9856,
          1020260.8654,
          1038583.3752,
          1047811.9736,
          1082050.6984,
          1025299.8266,
          1069674.7572,
          1059832.3484,
          1081891.2006,
          1131818.1952
         ],
         "yaxis": "y"
        },
        {
         "hovertemplate": "Food_type=Beef and Buffalo Meat<br>Year=%{x}<br>GHG emissions (in thousands t of CO2e)=%{y}<extra></extra>",
         "legendgroup": "Beef and Buffalo Meat",
         "line": {
          "color": "rgb(255,127,0)",
          "dash": "solid"
         },
         "marker": {
          "size": 5,
          "symbol": "circle"
         },
         "mode": "markers+lines",
         "name": "Beef and Buffalo Meat",
         "orientation": "v",
         "showlegend": true,
         "type": "scatter",
         "x": [
          1961,
          1962,
          1963,
          1964,
          1965,
          1966,
          1967,
          1968,
          1969,
          1970,
          1971,
          1972,
          1973,
          1974,
          1975,
          1976,
          1977,
          1978,
          1979,
          1980,
          1981,
          1982,
          1983,
          1984,
          1985,
          1986,
          1987,
          1988,
          1989,
          1990,
          1991,
          1992,
          1993,
          1994,
          1995,
          1996,
          1997,
          1998,
          1999,
          2000,
          2001,
          2002,
          2003,
          2004,
          2005,
          2006,
          2007,
          2008,
          2009,
          2010,
          2011,
          2012,
          2013,
          2014,
          2015,
          2016,
          2017,
          2018,
          2019,
          2020,
          2021,
          2022
         ],
         "xaxis": "x",
         "y": [
          1725190.44,
          1818314.46,
          1918418.7,
          1946077.68,
          1982286.3,
          2085096.06,
          2189678.16,
          2293508.64,
          2352515.58,
          2379531.18,
          2364619.74,
          2393755.98,
          2415460.92,
          2598548.46,
          2711751.72,
          2856213.42,
          2880467.82,
          2912127.06,
          2842921.26,
          2832042.84,
          2859672.3,
          2865431.7,
          2942064.78,
          3026360.22,
          3081060.12,
          3186472.74,
          3184514.34,
          3214115.04,
          3227731.86,
          3321070.02,
          3321069.36,
          3272256,
          3206718.84,
          3210380.16,
          3263839.5,
          3309932.22,
          3391760.94,
          3381937.68,
          3473651.04,
          3500220.42,
          3491812.74,
          3567348.42,
          3626064.48,
          3732931.68,
          3759924.6,
          3858044.1,
          3970629.3,
          3992223.6,
          4034442.96,
          4042193.34,
          4043120.7,
          4078485.9,
          4154551.5,
          4186537.2,
          4169590.14,
          4190058.06,
          4263178.62,
          4372709.28,
          4482313.32,
          4423525.98,
          4493385.06,
          4574976
         ],
         "yaxis": "y"
        },
        {
         "hovertemplate": "Food_type=Rye<br>Year=%{x}<br>GHG emissions (in thousands t of CO2e)=%{y}<extra></extra>",
         "legendgroup": "Rye",
         "line": {
          "color": "rgb(255,255,51)",
          "dash": "solid"
         },
         "marker": {
          "size": 5,
          "symbol": "circle"
         },
         "mode": "markers+lines",
         "name": "Rye",
         "orientation": "v",
         "showlegend": true,
         "type": "scatter",
         "x": [
          1961,
          1962,
          1963,
          1964,
          1965,
          1966,
          1967,
          1968,
          1969,
          1970,
          1971,
          1972,
          1973,
          1974,
          1975,
          1976,
          1977,
          1978,
          1979,
          1980,
          1981,
          1982,
          1983,
          1984,
          1985,
          1986,
          1987,
          1988,
          1989,
          1990,
          1991,
          1992,
          1993,
          1994,
          1995,
          1996,
          1997,
          1998,
          1999,
          2000,
          2001,
          2002,
          2003,
          2004,
          2005,
          2006,
          2007,
          2008,
          2009,
          2010,
          2011,
          2012,
          2013,
          2014,
          2015,
          2016,
          2017,
          2018,
          2019,
          2020,
          2021,
          2022
         ],
         "xaxis": "x",
         "y": [
          49153.986,
          48754.1026,
          42679.6958,
          45735.6396,
          49507.9634,
          43130.9886,
          44020.7726,
          46235.8414,
          41200.3382,
          38748.8192,
          44372.0942,
          40148.584,
          40544.7784,
          45529.127,
          34029.6334,
          41494.474,
          33646.6144,
          43297.233,
          31724.1638,
          35529.165,
          34792.3688,
          43551.83,
          48807.2354,
          47377.8382,
          44863.6272,
          42579.7554,
          45516.3618,
          43451.6012,
          48541.5854,
          53471.0162,
          40641.139,
          42703.948,
          38414.3956,
          32043.1384,
          32511.7016,
          32303.3158,
          35410.2294,
          29558.7768,
          28222.2794,
          28150.8654,
          32735.3502,
          29306.5122,
          20507.207,
          24685.3446,
          21305.2462,
          17732.68,
          21159.9346,
          25377.5452,
          25518.5154,
          16682.519,
          18348.0822,
          20299.6598,
          23309.9496,
          21285.8212,
          18112.0856,
          18198.8002,
          18216.1658,
          14983.4734,
          17911.999,
          21051.5368,
          18367.384,
          18400.2756
         ],
         "yaxis": "y"
        }
       ],
       "layout": {
        "height": 500,
        "legend": {
         "title": {
          "text": "Food_type"
         },
         "tracegroupgap": 0
        },
        "margin": {
         "b": 40,
         "l": 40,
         "r": 40,
         "t": 80
        },
        "plot_bgcolor": "rgba(0,0,0,0)",
        "template": {
         "data": {
          "bar": [
           {
            "error_x": {
             "color": "#2a3f5f"
            },
            "error_y": {
             "color": "#2a3f5f"
            },
            "marker": {
             "line": {
              "color": "#E5ECF6",
              "width": 0.5
             },
             "pattern": {
              "fillmode": "overlay",
              "size": 10,
              "solidity": 0.2
             }
            },
            "type": "bar"
           }
          ],
          "barpolar": [
           {
            "marker": {
             "line": {
              "color": "#E5ECF6",
              "width": 0.5
             },
             "pattern": {
              "fillmode": "overlay",
              "size": 10,
              "solidity": 0.2
             }
            },
            "type": "barpolar"
           }
          ],
          "carpet": [
           {
            "aaxis": {
             "endlinecolor": "#2a3f5f",
             "gridcolor": "white",
             "linecolor": "white",
             "minorgridcolor": "white",
             "startlinecolor": "#2a3f5f"
            },
            "baxis": {
             "endlinecolor": "#2a3f5f",
             "gridcolor": "white",
             "linecolor": "white",
             "minorgridcolor": "white",
             "startlinecolor": "#2a3f5f"
            },
            "type": "carpet"
           }
          ],
          "choropleth": [
           {
            "colorbar": {
             "outlinewidth": 0,
             "ticks": ""
            },
            "type": "choropleth"
           }
          ],
          "contour": [
           {
            "colorbar": {
             "outlinewidth": 0,
             "ticks": ""
            },
            "colorscale": [
             [
              0,
              "#0d0887"
             ],
             [
              0.1111111111111111,
              "#46039f"
             ],
             [
              0.2222222222222222,
              "#7201a8"
             ],
             [
              0.3333333333333333,
              "#9c179e"
             ],
             [
              0.4444444444444444,
              "#bd3786"
             ],
             [
              0.5555555555555556,
              "#d8576b"
             ],
             [
              0.6666666666666666,
              "#ed7953"
             ],
             [
              0.7777777777777778,
              "#fb9f3a"
             ],
             [
              0.8888888888888888,
              "#fdca26"
             ],
             [
              1,
              "#f0f921"
             ]
            ],
            "type": "contour"
           }
          ],
          "contourcarpet": [
           {
            "colorbar": {
             "outlinewidth": 0,
             "ticks": ""
            },
            "type": "contourcarpet"
           }
          ],
          "heatmap": [
           {
            "colorbar": {
             "outlinewidth": 0,
             "ticks": ""
            },
            "colorscale": [
             [
              0,
              "#0d0887"
             ],
             [
              0.1111111111111111,
              "#46039f"
             ],
             [
              0.2222222222222222,
              "#7201a8"
             ],
             [
              0.3333333333333333,
              "#9c179e"
             ],
             [
              0.4444444444444444,
              "#bd3786"
             ],
             [
              0.5555555555555556,
              "#d8576b"
             ],
             [
              0.6666666666666666,
              "#ed7953"
             ],
             [
              0.7777777777777778,
              "#fb9f3a"
             ],
             [
              0.8888888888888888,
              "#fdca26"
             ],
             [
              1,
              "#f0f921"
             ]
            ],
            "type": "heatmap"
           }
          ],
          "heatmapgl": [
           {
            "colorbar": {
             "outlinewidth": 0,
             "ticks": ""
            },
            "colorscale": [
             [
              0,
              "#0d0887"
             ],
             [
              0.1111111111111111,
              "#46039f"
             ],
             [
              0.2222222222222222,
              "#7201a8"
             ],
             [
              0.3333333333333333,
              "#9c179e"
             ],
             [
              0.4444444444444444,
              "#bd3786"
             ],
             [
              0.5555555555555556,
              "#d8576b"
             ],
             [
              0.6666666666666666,
              "#ed7953"
             ],
             [
              0.7777777777777778,
              "#fb9f3a"
             ],
             [
              0.8888888888888888,
              "#fdca26"
             ],
             [
              1,
              "#f0f921"
             ]
            ],
            "type": "heatmapgl"
           }
          ],
          "histogram": [
           {
            "marker": {
             "pattern": {
              "fillmode": "overlay",
              "size": 10,
              "solidity": 0.2
             }
            },
            "type": "histogram"
           }
          ],
          "histogram2d": [
           {
            "colorbar": {
             "outlinewidth": 0,
             "ticks": ""
            },
            "colorscale": [
             [
              0,
              "#0d0887"
             ],
             [
              0.1111111111111111,
              "#46039f"
             ],
             [
              0.2222222222222222,
              "#7201a8"
             ],
             [
              0.3333333333333333,
              "#9c179e"
             ],
             [
              0.4444444444444444,
              "#bd3786"
             ],
             [
              0.5555555555555556,
              "#d8576b"
             ],
             [
              0.6666666666666666,
              "#ed7953"
             ],
             [
              0.7777777777777778,
              "#fb9f3a"
             ],
             [
              0.8888888888888888,
              "#fdca26"
             ],
             [
              1,
              "#f0f921"
             ]
            ],
            "type": "histogram2d"
           }
          ],
          "histogram2dcontour": [
           {
            "colorbar": {
             "outlinewidth": 0,
             "ticks": ""
            },
            "colorscale": [
             [
              0,
              "#0d0887"
             ],
             [
              0.1111111111111111,
              "#46039f"
             ],
             [
              0.2222222222222222,
              "#7201a8"
             ],
             [
              0.3333333333333333,
              "#9c179e"
             ],
             [
              0.4444444444444444,
              "#bd3786"
             ],
             [
              0.5555555555555556,
              "#d8576b"
             ],
             [
              0.6666666666666666,
              "#ed7953"
             ],
             [
              0.7777777777777778,
              "#fb9f3a"
             ],
             [
              0.8888888888888888,
              "#fdca26"
             ],
             [
              1,
              "#f0f921"
             ]
            ],
            "type": "histogram2dcontour"
           }
          ],
          "mesh3d": [
           {
            "colorbar": {
             "outlinewidth": 0,
             "ticks": ""
            },
            "type": "mesh3d"
           }
          ],
          "parcoords": [
           {
            "line": {
             "colorbar": {
              "outlinewidth": 0,
              "ticks": ""
             }
            },
            "type": "parcoords"
           }
          ],
          "pie": [
           {
            "automargin": true,
            "type": "pie"
           }
          ],
          "scatter": [
           {
            "fillpattern": {
             "fillmode": "overlay",
             "size": 10,
             "solidity": 0.2
            },
            "type": "scatter"
           }
          ],
          "scatter3d": [
           {
            "line": {
             "colorbar": {
              "outlinewidth": 0,
              "ticks": ""
             }
            },
            "marker": {
             "colorbar": {
              "outlinewidth": 0,
              "ticks": ""
             }
            },
            "type": "scatter3d"
           }
          ],
          "scattercarpet": [
           {
            "marker": {
             "colorbar": {
              "outlinewidth": 0,
              "ticks": ""
             }
            },
            "type": "scattercarpet"
           }
          ],
          "scattergeo": [
           {
            "marker": {
             "colorbar": {
              "outlinewidth": 0,
              "ticks": ""
             }
            },
            "type": "scattergeo"
           }
          ],
          "scattergl": [
           {
            "marker": {
             "colorbar": {
              "outlinewidth": 0,
              "ticks": ""
             }
            },
            "type": "scattergl"
           }
          ],
          "scattermapbox": [
           {
            "marker": {
             "colorbar": {
              "outlinewidth": 0,
              "ticks": ""
             }
            },
            "type": "scattermapbox"
           }
          ],
          "scatterpolar": [
           {
            "marker": {
             "colorbar": {
              "outlinewidth": 0,
              "ticks": ""
             }
            },
            "type": "scatterpolar"
           }
          ],
          "scatterpolargl": [
           {
            "marker": {
             "colorbar": {
              "outlinewidth": 0,
              "ticks": ""
             }
            },
            "type": "scatterpolargl"
           }
          ],
          "scatterternary": [
           {
            "marker": {
             "colorbar": {
              "outlinewidth": 0,
              "ticks": ""
             }
            },
            "type": "scatterternary"
           }
          ],
          "surface": [
           {
            "colorbar": {
             "outlinewidth": 0,
             "ticks": ""
            },
            "colorscale": [
             [
              0,
              "#0d0887"
             ],
             [
              0.1111111111111111,
              "#46039f"
             ],
             [
              0.2222222222222222,
              "#7201a8"
             ],
             [
              0.3333333333333333,
              "#9c179e"
             ],
             [
              0.4444444444444444,
              "#bd3786"
             ],
             [
              0.5555555555555556,
              "#d8576b"
             ],
             [
              0.6666666666666666,
              "#ed7953"
             ],
             [
              0.7777777777777778,
              "#fb9f3a"
             ],
             [
              0.8888888888888888,
              "#fdca26"
             ],
             [
              1,
              "#f0f921"
             ]
            ],
            "type": "surface"
           }
          ],
          "table": [
           {
            "cells": {
             "fill": {
              "color": "#EBF0F8"
             },
             "line": {
              "color": "white"
             }
            },
            "header": {
             "fill": {
              "color": "#C8D4E3"
             },
             "line": {
              "color": "white"
             }
            },
            "type": "table"
           }
          ]
         },
         "layout": {
          "annotationdefaults": {
           "arrowcolor": "#2a3f5f",
           "arrowhead": 0,
           "arrowwidth": 1
          },
          "autotypenumbers": "strict",
          "coloraxis": {
           "colorbar": {
            "outlinewidth": 0,
            "ticks": ""
           }
          },
          "colorscale": {
           "diverging": [
            [
             0,
             "#8e0152"
            ],
            [
             0.1,
             "#c51b7d"
            ],
            [
             0.2,
             "#de77ae"
            ],
            [
             0.3,
             "#f1b6da"
            ],
            [
             0.4,
             "#fde0ef"
            ],
            [
             0.5,
             "#f7f7f7"
            ],
            [
             0.6,
             "#e6f5d0"
            ],
            [
             0.7,
             "#b8e186"
            ],
            [
             0.8,
             "#7fbc41"
            ],
            [
             0.9,
             "#4d9221"
            ],
            [
             1,
             "#276419"
            ]
           ],
           "sequential": [
            [
             0,
             "#0d0887"
            ],
            [
             0.1111111111111111,
             "#46039f"
            ],
            [
             0.2222222222222222,
             "#7201a8"
            ],
            [
             0.3333333333333333,
             "#9c179e"
            ],
            [
             0.4444444444444444,
             "#bd3786"
            ],
            [
             0.5555555555555556,
             "#d8576b"
            ],
            [
             0.6666666666666666,
             "#ed7953"
            ],
            [
             0.7777777777777778,
             "#fb9f3a"
            ],
            [
             0.8888888888888888,
             "#fdca26"
            ],
            [
             1,
             "#f0f921"
            ]
           ],
           "sequentialminus": [
            [
             0,
             "#0d0887"
            ],
            [
             0.1111111111111111,
             "#46039f"
            ],
            [
             0.2222222222222222,
             "#7201a8"
            ],
            [
             0.3333333333333333,
             "#9c179e"
            ],
            [
             0.4444444444444444,
             "#bd3786"
            ],
            [
             0.5555555555555556,
             "#d8576b"
            ],
            [
             0.6666666666666666,
             "#ed7953"
            ],
            [
             0.7777777777777778,
             "#fb9f3a"
            ],
            [
             0.8888888888888888,
             "#fdca26"
            ],
            [
             1,
             "#f0f921"
            ]
           ]
          },
          "colorway": [
           "#636efa",
           "#EF553B",
           "#00cc96",
           "#ab63fa",
           "#FFA15A",
           "#19d3f3",
           "#FF6692",
           "#B6E880",
           "#FF97FF",
           "#FECB52"
          ],
          "font": {
           "color": "#2a3f5f"
          },
          "geo": {
           "bgcolor": "white",
           "lakecolor": "white",
           "landcolor": "#E5ECF6",
           "showlakes": true,
           "showland": true,
           "subunitcolor": "white"
          },
          "hoverlabel": {
           "align": "left"
          },
          "hovermode": "closest",
          "mapbox": {
           "style": "light"
          },
          "paper_bgcolor": "white",
          "plot_bgcolor": "#E5ECF6",
          "polar": {
           "angularaxis": {
            "gridcolor": "white",
            "linecolor": "white",
            "ticks": ""
           },
           "bgcolor": "#E5ECF6",
           "radialaxis": {
            "gridcolor": "white",
            "linecolor": "white",
            "ticks": ""
           }
          },
          "scene": {
           "xaxis": {
            "backgroundcolor": "#E5ECF6",
            "gridcolor": "white",
            "gridwidth": 2,
            "linecolor": "white",
            "showbackground": true,
            "ticks": "",
            "zerolinecolor": "white"
           },
           "yaxis": {
            "backgroundcolor": "#E5ECF6",
            "gridcolor": "white",
            "gridwidth": 2,
            "linecolor": "white",
            "showbackground": true,
            "ticks": "",
            "zerolinecolor": "white"
           },
           "zaxis": {
            "backgroundcolor": "#E5ECF6",
            "gridcolor": "white",
            "gridwidth": 2,
            "linecolor": "white",
            "showbackground": true,
            "ticks": "",
            "zerolinecolor": "white"
           }
          },
          "shapedefaults": {
           "line": {
            "color": "#2a3f5f"
           }
          },
          "ternary": {
           "aaxis": {
            "gridcolor": "white",
            "linecolor": "white",
            "ticks": ""
           },
           "baxis": {
            "gridcolor": "white",
            "linecolor": "white",
            "ticks": ""
           },
           "bgcolor": "#E5ECF6",
           "caxis": {
            "gridcolor": "white",
            "linecolor": "white",
            "ticks": ""
           }
          },
          "title": {
           "x": 0.05
          },
          "xaxis": {
           "automargin": true,
           "gridcolor": "white",
           "linecolor": "white",
           "ticks": "",
           "title": {
            "standoff": 15
           },
           "zerolinecolor": "white",
           "zerolinewidth": 2
          },
          "yaxis": {
           "automargin": true,
           "gridcolor": "white",
           "linecolor": "white",
           "ticks": "",
           "title": {
            "standoff": 15
           },
           "zerolinecolor": "white",
           "zerolinewidth": 2
          }
         }
        },
        "title": {
         "text": "Worldwide evolution of GHG emissions by Type of Food"
        },
        "width": 800,
        "xaxis": {
         "anchor": "y",
         "domain": [
          0,
          1
         ],
         "gridcolor": "lightgray",
         "showgrid": true,
         "title": {
          "text": "Year"
         }
        },
        "yaxis": {
         "anchor": "x",
         "domain": [
          0,
          1
         ],
         "gridcolor": "lightgray",
         "showgrid": true,
         "title": {
          "text": "GHG emissions (in thousands t of CO2e)"
         }
        }
       }
      },
      "text/html": [
       "<div>                            <div id=\"63ef9005-b701-42bc-ad5d-c16c1a0026d9\" class=\"plotly-graph-div\" style=\"height:500px; width:800px;\"></div>            <script type=\"text/javascript\">                require([\"plotly\"], function(Plotly) {                    window.PLOTLYENV=window.PLOTLYENV || {};                                    if (document.getElementById(\"63ef9005-b701-42bc-ad5d-c16c1a0026d9\")) {                    Plotly.newPlot(                        \"63ef9005-b701-42bc-ad5d-c16c1a0026d9\",                        [{\"hovertemplate\":\"Food_type=Bananas<br>Year=%{x}<br>GHG emissions (in thousands t of CO2e)=%{y}<extra></extra>\",\"legendgroup\":\"Bananas\",\"line\":{\"color\":\"rgb(228,26,28)\",\"dash\":\"solid\"},\"marker\":{\"symbol\":\"circle\",\"size\":5},\"mode\":\"markers+lines\",\"name\":\"Bananas\",\"orientation\":\"v\",\"showlegend\":true,\"x\":[1961,1962,1963,1964,1965,1966,1967,1968,1969,1970,1971,1972,1973,1974,1975,1976,1977,1978,1979,1980,1981,1982,1983,1984,1985,1986,1987,1988,1989,1990,1991,1992,1993,1994,1995,1996,1997,1998,1999,2000,2001,2002,2003,2004,2005,2006,2007,2008,2009,2010,2011,2012,2013,2014,2015,2016,2017,2018,2019,2020,2021,2022],\"xaxis\":\"x\",\"y\":[15697.1752,16334.7464,16689.4168,17934.9198,19415.8524,19659.5077,20388.1769,21270.0369,22337.3395,23197.8691,23968.0392,24168.5864,23006.9861,23458.2173,23197.6857,24033.3268,25262.8166,25577.4953,26285.182,27368.5475,27906.242,28379.2054,27473.9955,28962.7401,29760.3509,31565.3415,32704.3493,33071.493,33484.3369,34955.2,35434.511,38536.1452,39054.1312,40231.0391,40713.6247,40205.6543,43520.5302,45023.4463,48545.7567,46621.799,48607.7277,50607.9784,52028.3365,55150.6823,58127.2944,61620.755,65495.5343,68515.1355,71750.035,76604.2837,76992.3231,76043.4906,78199.4451,78403.2116,80072.5751,77947.4696,79233.9149,82043.2186,82137.9818,88716.5986,92457.5211,94578.6282],\"yaxis\":\"y\",\"type\":\"scatter\"},{\"hovertemplate\":\"Food_type=Pig Meat<br>Year=%{x}<br>GHG emissions (in thousands t of CO2e)=%{y}<extra></extra>\",\"legendgroup\":\"Pig Meat\",\"line\":{\"color\":\"rgb(55,126,184)\",\"dash\":\"solid\"},\"marker\":{\"symbol\":\"circle\",\"size\":5},\"mode\":\"markers+lines\",\"name\":\"Pig Meat\",\"orientation\":\"v\",\"showlegend\":true,\"x\":[1961,1962,1963,1964,1965,1966,1967,1968,1969,1970,1971,1972,1973,1974,1975,1976,1977,1978,1979,1980,1981,1982,1983,1984,1985,1986,1987,1988,1989,1990,1991,1992,1993,1994,1995,1996,1997,1998,1999,2000,2001,2002,2003,2004,2005,2006,2007,2008,2009,2010,2011,2012,2013,2014,2015,2016,2017,2018,2019,2020,2021,2022],\"xaxis\":\"x\",\"y\":[173229.112,182380.625,196107.135,200736.634,218983.086,226875.775,237042.365,240806.636,238842.45,250564.489,275915.99,284358.536,283288.306,297008.299,291688.432,285252.751,300633.599,319489.506,350586.103,368718.651,370928.586,372369.879,388337.999,402404.45,419756.953,425044.025,443956.03,468265.364,475817.566,487907.861,495069.554,509975.676,526810.459,551231.317,583732.072,551163.368,578500.839,617589.931,631332.338,624681.519,630749.861,646991.366,664202.112,670991.23,687192.296,700186.473,690754.071,719611.543,736989.834,757222.865,761691.784,786113.594,799799.07,814505.321,830340.154,825413.834,831801.243,833459.13,757310.421,757801.541,846806.072,858097.779],\"yaxis\":\"y\",\"type\":\"scatter\"},{\"hovertemplate\":\"Food_type=Poultry Meat<br>Year=%{x}<br>GHG emissions (in thousands t of CO2e)=%{y}<extra></extra>\",\"legendgroup\":\"Poultry Meat\",\"line\":{\"color\":\"rgb(77,175,74)\",\"dash\":\"solid\"},\"marker\":{\"symbol\":\"circle\",\"size\":5},\"mode\":\"markers+lines\",\"name\":\"Poultry Meat\",\"orientation\":\"v\",\"showlegend\":true,\"x\":[1961,1962,1963,1964,1965,1966,1967,1968,1969,1970,1971,1972,1973,1974,1975,1976,1977,1978,1979,1980,1981,1982,1983,1984,1985,1986,1987,1988,1989,1990,1991,1992,1993,1994,1995,1996,1997,1998,1999,2000,2001,2002,2003,2004,2005,2006,2007,2008,2009,2010,2011,2012,2013,2014,2015,2016,2017,2018,2019,2020,2021,2022],\"xaxis\":\"x\",\"y\":[53693.652,55230.336,58492.332,60844.458,65767.56,70091.838,74300.4,76693.47,82390.62,90570.222,94387.254,100992.714,105726.246,109779.186,112041.69,120151.23,127377.252,136221.57,147339.714,155676.066,165053.664,170769.648,175195.26,178642.656,187081.266,199920.93,215781.0,226364.076,231990.228,245878.368,262712.838,275961.126,293616.798,310383.498,331879.8,343218.636,364874.052,380133.204,396522.468,411952.788,427762.374,447341.388,456565.266,471698.568,488446.764,500833.59,531000.312,556232.574,568726.932,594968.424,618960.516,642979.248,660750.216,679352.868,704566.638,723567.072,747775.038,767081.478,801604.458,809265.144,818520.744,835315.38],\"yaxis\":\"y\",\"type\":\"scatter\"},{\"hovertemplate\":\"Food_type=Coffee<br>Year=%{x}<br>GHG emissions (in thousands t of CO2e)=%{y}<extra></extra>\",\"legendgroup\":\"Coffee\",\"line\":{\"color\":\"rgb(152,78,163)\",\"dash\":\"solid\"},\"marker\":{\"symbol\":\"circle\",\"size\":5},\"mode\":\"markers+lines\",\"name\":\"Coffee\",\"orientation\":\"v\",\"showlegend\":true,\"x\":[1961,1962,1963,1964,1965,1966,1967,1968,1969,1970,1971,1972,1973,1974,1975,1976,1977,1978,1979,1980,1981,1982,1983,1984,1985,1986,1987,1988,1989,1990,1991,1992,1993,1994,1995,1996,1997,1998,1999,2000,2001,2002,2003,2004,2005,2006,2007,2008,2009,2010,2011,2012,2013,2014,2015,2016,2017,2018,2019,2020,2021,2022],\"xaxis\":\"x\",\"y\":[76973.892,77934.307,70586.159,64079.613,84686.673,68887.927,73655.577,66919.582,72630.783,65443.846,79275.675,77702.036,71157.308,81092.431,78254.553,59882.636,74789.647,80328.162,84542.53,82266.723,103414.706,83994.909,94895.36,88765.568,99017.01,89032.808,108547.652,95973.347,100436.697,103072.632,103069.776,103467.865,94434.099,97286.206,93995.635,105360.764,103226.38,112755.203,115443.141,127479.209,125458.912,134784.602,119664.564,133669.266,125665.581,138513.399,138288.642,144326.413,132222.906,143829.554,142285.512,149575.945,150265.567,148469.721,150167.324,158741.376,158166.164,179510.701,176006.355,191154.681,178455.902,183299.661],\"yaxis\":\"y\",\"type\":\"scatter\"},{\"hovertemplate\":\"Food_type=Eggs<br>Year=%{x}<br>GHG emissions (in thousands t of CO2e)=%{y}<extra></extra>\",\"legendgroup\":\"Eggs\",\"line\":{\"color\":\"rgb(255,127,0)\",\"dash\":\"solid\"},\"marker\":{\"symbol\":\"circle\",\"size\":5},\"mode\":\"markers+lines\",\"name\":\"Eggs\",\"orientation\":\"v\",\"showlegend\":true,\"x\":[1961,1962,1963,1964,1965,1966,1967,1968,1969,1970,1971,1972,1973,1974,1975,1976,1977,1978,1979,1980,1981,1982,1983,1984,1985,1986,1987,1988,1989,1990,1991,1992,1993,1994,1995,1996,1997,1998,1999,2000,2001,2002,2003,2004,2005,2006,2007,2008,2009,2010,2011,2012,2013,2014,2015,2016,2017,2018,2019,2020,2021,2022],\"xaxis\":\"x\",\"y\":[67990.0455,69631.1415,70512.4575,73575.819,75830.859,77861.2275,81547.2495,83768.7285,87368.454,91582.1955,94752.4275,97691.2605,98753.211,101337.5475,104523.507,106362.441,111330.819,116141.373,119514.411,123316.4295,126066.1725,129423.933,131881.095,138484.2735,146228.211,151200.711,155197.224,162066.888,163372.8375,168139.269,176192.406,179071.2495,185787.594,201522.2625,211019.4675,224059.6035,224796.0555,232381.143,241055.9865,248350.1535,253452.249,259642.7865,264114.432,269939.6235,275609.8125,281319.1245,289519.4295,300330.684,306207.171,312740.8155,318748.5405,326374.344,334241.208,341396.631,351611.2215,361637.073,381741.273,387951.777,405097.515,420335.1225,419838.093,419271.5115],\"yaxis\":\"y\",\"type\":\"scatter\"},{\"hovertemplate\":\"Food_type=Maize<br>Year=%{x}<br>GHG emissions (in thousands t of CO2e)=%{y}<extra></extra>\",\"legendgroup\":\"Maize\",\"line\":{\"color\":\"rgb(255,255,51)\",\"dash\":\"solid\"},\"marker\":{\"symbol\":\"circle\",\"size\":5},\"mode\":\"markers+lines\",\"name\":\"Maize\",\"orientation\":\"v\",\"showlegend\":true,\"x\":[1961,1962,1963,1964,1965,1966,1967,1968,1969,1970,1971,1972,1973,1974,1975,1976,1977,1978,1979,1980,1981,1982,1983,1984,1985,1986,1987,1988,1989,1990,1991,1992,1993,1994,1995,1996,1997,1998,1999,2000,2001,2002,2003,2004,2005,2006,2007,2008,2009,2010,2011,2012,2013,2014,2015,2016,2017,2018,2019,2020,2021,2022],\"xaxis\":\"x\",\"y\":[205027.236,204876.636,220228.115,215172.391,226544.121,245599.1,272548.408,255670.482,269505.982,265831.067,313622.542,308826.205,318290.384,306427.262,341751.886,352395.781,371593.27,393600.005,418622.905,396623.299,446772.427,448932.182,347081.96,450449.905,485527.217,478176.534,453115.706,403050.141,476874.41,483387.901,494402.007,533776.874,477215.762,568654.838,517290.721,586137.227,584401.175,615071.304,607422.351,592019.783,615141.837,603538.033,645044.177,729502.872,714160.378,707891.204,793515.43,829776.428,820804.322,852693.615,887686.113,874613.898,1016672.048,1040424.659,1053833.197,1123613.865,1140319.593,1124325.183,1137729.775,1155754.012,1207996.141,1163497.383],\"yaxis\":\"y\",\"type\":\"scatter\"},{\"hovertemplate\":\"Food_type=Sheep and Goat Meat<br>Year=%{x}<br>GHG emissions (in thousands t of CO2e)=%{y}<extra></extra>\",\"legendgroup\":\"Sheep and Goat Meat\",\"line\":{\"color\":\"rgb(166,86,40)\",\"dash\":\"solid\"},\"marker\":{\"symbol\":\"circle\",\"size\":5},\"mode\":\"markers+lines\",\"name\":\"Sheep and Goat Meat\",\"orientation\":\"v\",\"showlegend\":true,\"x\":[1961,1962,1963,1964,1965,1966,1967,1968,1969,1970,1971,1972,1973,1974,1975,1976,1977,1978,1979,1980,1981,1982,1983,1984,1985,1986,1987,1988,1989,1990,1991,1992,1993,1994,1995,1996,1997,1998,1999,2000,2001,2002,2003,2004,2005,2006,2007,2008,2009,2010,2011,2012,2013,2014,2015,2016,2017,2018,2019,2020,2021,2022],\"xaxis\":\"x\",\"y\":[144737.976,147968.664,147886.08,147758.352,149057.232,151590.192,155810.52,160102.776,159560.712,163899.72,167036.376,168394.8,162803.112,157448.016,162957.984,163653.168,165241.944,169056.288,169035.864,176185.704,182927.808,185130.84,191988.96,194012.784,198275.496,200363.88,207954.456,217680.864,225617.28,233102.688,230574.456,233083.896,235609.08,240680.16,245710.296,238569.336,247431.12,258787.176,264230.232,270813.696,281418.552,281885.52,290080.704,298361.28,308374.152,312872.4,324946.392,324946.8,327714.24,329101.752,330904.104,332802.336,341448.0,350715.336,360116.76,366999.384,366858.168,370187.712,377958.912,385880.256,391486.896,399355.488],\"yaxis\":\"y\",\"type\":\"scatter\"},{\"hovertemplate\":\"Food_type=Tomatoes<br>Year=%{x}<br>GHG emissions (in thousands t of CO2e)=%{y}<extra></extra>\",\"legendgroup\":\"Tomatoes\",\"line\":{\"color\":\"rgb(247,129,191)\",\"dash\":\"solid\"},\"marker\":{\"symbol\":\"circle\",\"size\":5},\"mode\":\"markers+lines\",\"name\":\"Tomatoes\",\"orientation\":\"v\",\"showlegend\":true,\"x\":[1961,1962,1963,1964,1965,1966,1967,1968,1969,1970,1971,1972,1973,1974,1975,1976,1977,1978,1979,1980,1981,1982,1983,1984,1985,1986,1987,1988,1989,1990,1991,1992,1993,1994,1995,1996,1997,1998,1999,2000,2001,2002,2003,2004,2005,2006,2007,2008,2009,2010,2011,2012,2013,2014,2015,2016,2017,2018,2019,2020,2021,2022],\"xaxis\":\"x\",\"y\":[38664.2396,40785.227,39416.874,41757.5956,42643.748,44492.6048,46844.105,49463.3734,48386.9638,50237.6812,52808.4312,53827.6676,58278.5686,62688.654,65865.6348,63052.0128,65914.6768,71046.5588,76779.4342,73710.315,76035.5708,80613.7976,83363.1428,89713.5288,91486.696,91314.4064,92529.1066,94332.5334,104459.9626,106833.118,106244.0344,103228.4918,107904.0368,115469.5444,121137.1728,129824.688,125042.9544,133256.053,152692.4826,153167.6538,149639.8274,162343.7536,165835.7316,178168.6242,180116.1516,183085.714,192487.9866,198854.7428,218039.9914,215362.5166,224214.7978,229516.5894,232515.3852,245812.2674,248608.759,249864.7956,251339.2798,255150.5964,254559.907,259328.7382,264994.079,260551.1608],\"yaxis\":\"y\",\"type\":\"scatter\"},{\"hovertemplate\":\"Food_type=Sugar cane<br>Year=%{x}<br>GHG emissions (in thousands t of CO2e)=%{y}<extra></extra>\",\"legendgroup\":\"Sugar cane\",\"line\":{\"color\":\"rgb(153,153,153)\",\"dash\":\"solid\"},\"marker\":{\"symbol\":\"circle\",\"size\":5},\"mode\":\"markers+lines\",\"name\":\"Sugar cane\",\"orientation\":\"v\",\"showlegend\":true,\"x\":[1961,1962,1963,1964,1965,1966,1967,1968,1969,1970,1971,1972,1973,1974,1975,1976,1977,1978,1979,1980,1981,1982,1983,1984,1985,1986,1987,1988,1989,1990,1991,1992,1993,1994,1995,1996,1997,1998,1999,2000,2001,2002,2003,2004,2005,2006,2007,2008,2009,2010,2011,2012,2013,2014,2015,2016,2017,2018,2019,2020,2021,2022],\"xaxis\":\"x\",\"y\":[1343620.491,1310206.845,1319399.631,1441922.223,1593442.377,1594478.382,1556672.589,1518275.538,1614767.109,1825848.207,1746316.17,1707316.596,1800681.321,1945549.377,1967447.262,2061622.5,2204574.744,2323250.454,2310735.414,2203467.48,2398812.525,2721203.526,2711052.948,2789304.63,2799640.662,2804157.456,2970957.654,2978947.443,3053996.259,3158992.401,3259570.623,3322703.583,3062403.477,3253171.188,3489128.808,3656142.738,3738520.839,3791480.487,3846255.741,3758964.426,3772105.74,3980319.003,4115021.19,3999272.469,3918810.813,4251953.439,4806652.782,5149447.44,5017624.311,5027650.854,5369930.268,5482414.533,5704318.446,5656590.711,5621884.269,5639469.027,5501201.667,5792181.285,5868870.366,5633418.969,5585799.666,5766179.55],\"yaxis\":\"y\",\"type\":\"scatter\"},{\"hovertemplate\":\"Food_type=Palm Oil<br>Year=%{x}<br>GHG emissions (in thousands t of CO2e)=%{y}<extra></extra>\",\"legendgroup\":\"Palm Oil\",\"line\":{\"color\":\"rgb(228,26,28)\",\"dash\":\"solid\"},\"marker\":{\"symbol\":\"circle\",\"size\":5},\"mode\":\"markers+lines\",\"name\":\"Palm Oil\",\"orientation\":\"v\",\"showlegend\":true,\"x\":[1961,1962,1963,1964,1965,1966,1967,1968,1969,1970,1971,1972,1973,1974,1975,1976,1977,1978,1979,1980,1981,1982,1983,1984,1985,1986,1987,1988,1989,1990,1991,1992,1993,1994,1995,1996,1997,1998,1999,2000,2001,2002,2003,2004,2005,2006,2007,2008,2009,2010,2011,2012,2013,2014,2015,2016,2017,2018,2019,2020,2021,2022],\"xaxis\":\"x\",\"y\":[109090.0,105963.728,108637.448,108714.584,110332.048,109531.992,105164.544,112596.312,118166.888,121023.536,130549.816,133395.584,138565.096,155987.904,167771.344,170022.648,178248.2,198388.528,218529.776,238869.4,248000.376,286053.592,266362.576,323194.624,345791.648,375339.912,384721.512,423648.912,470852.872,487216.616,506478.312,538952.592,633346.032,653832.832,708789.864,748563.784,795774.792,793798.552,918108.736,966966.848,1034853.84,1082647.048,1202856.112,1307436.744,1460784.392,1572937.912,1550443.448,1709002.024,1733202.976,2169182.52,2371489.944,2471993.168,2605111.704,2619939.264,2688873.072,2673090.208,3262706.008,3302839.432,3328897.48,3329238.016,3324651.648,3396699.672],\"yaxis\":\"y\",\"type\":\"scatter\"},{\"hovertemplate\":\"Food_type=Rice<br>Year=%{x}<br>GHG emissions (in thousands t of CO2e)=%{y}<extra></extra>\",\"legendgroup\":\"Rice\",\"line\":{\"color\":\"rgb(55,126,184)\",\"dash\":\"solid\"},\"marker\":{\"symbol\":\"circle\",\"size\":5},\"mode\":\"markers+lines\",\"name\":\"Rice\",\"orientation\":\"v\",\"showlegend\":true,\"x\":[1961,1962,1963,1964,1965,1966,1967,1968,1969,1970,1971,1972,1973,1974,1975,1976,1977,1978,1979,1980,1981,1982,1983,1984,1985,1986,1987,1988,1989,1990,1991,1992,1993,1994,1995,1996,1997,1998,1999,2000,2001,2002,2003,2004,2005,2006,2007,2008,2009,2010,2011,2012,2013,2014,2015,2016,2017,2018,2019,2020,2021,2022],\"xaxis\":\"x\",\"y\":[862586.508,905825.164,988476.816,1051715.796,1016238.628,1044724.984,1109545.356,1154497.1,1182337.384,1265382.604,1270849.452,1229159.468,1339715.06,1327882.156,1427852.048,1390745.528,1477924.28,1540834.64,1501006.684,1587484.88,1640300.552,1687795.816,1792064.82,1861371.212,1872657.928,1874700.608,1845759.272,1949831.248,2057686.2,2074280.824,2072279.848,2116024.148,2117027.756,2158130.948,2190234.48,2275393.464,2309758.08,2316797.64,2446158.508,2395740.928,2402163.552,2285509.964,2350393.384,2430220.488,2538263.02,2562587.396,2621664.924,2743274.2,2725416.52,2786011.832,2888309.136,2917797.864,2945523.056,2951346.524,2936008.504,2961533.064,3004104.068,3062714.28,3015189.08,3090178.784,3156181.368,3105845.824],\"yaxis\":\"y\",\"type\":\"scatter\"},{\"hovertemplate\":\"Food_type=Milk<br>Year=%{x}<br>GHG emissions (in thousands t of CO2e)=%{y}<extra></extra>\",\"legendgroup\":\"Milk\",\"line\":{\"color\":\"rgb(77,175,74)\",\"dash\":\"solid\"},\"marker\":{\"symbol\":\"circle\",\"size\":5},\"mode\":\"markers+lines\",\"name\":\"Milk\",\"orientation\":\"v\",\"showlegend\":true,\"x\":[1961,1962,1963,1964,1965,1966,1967,1968,1969,1970,1971,1972,1973,1974,1975,1976,1977,1978,1979,1980,1981,1982,1983,1984,1985,1986,1987,1988,1989,1990,1991,1992,1993,1994,1995,1996,1997,1998,1999,2000,2001,2002,2003,2004,2005,2006,2007,2008,2009,2010,2011,2012,2013,2014,2015,2016,2017,2018,2019,2020,2021,2022],\"xaxis\":\"x\",\"y\":[1032510.819,1040505.888,1032829.311,1048419.546,1094394.129,1120354.401,1145359.482,1170181.209,1173419.316,1175782.998,1184953.293,1215700.746,1236471.147,1261204.959,1274151.12,1300616.946,1338850.176,1358119.398,1379185.392,1397391.189,1409397.579,1440002.868,1495552.416,1510141.122,1535116.989,1563832.68,1562740.359,1585073.046,1608662.298,1627346.55,1594784.802,1573018.965,1579073.844,1593694.815,1614602.76,1636564.005,1648245.747,1674981.432,1710966.765,1737477.399,1768325.922,1811792.703,1849648.479,1889776.734,1948569.522,1998604.515,2039689.959,2085901.86,2125584.252,2176016.094,2230166.586,2285283.003,2318304.315,2407645.845,2453005.815,2482848.837,2551567.593,2614720.74,2674873.422,2763868.242,2821829.706,2790885.039],\"yaxis\":\"y\",\"type\":\"scatter\"},{\"hovertemplate\":\"Food_type=Wheat<br>Year=%{x}<br>GHG emissions (in thousands t of CO2e)=%{y}<extra></extra>\",\"legendgroup\":\"Wheat\",\"line\":{\"color\":\"rgb(152,78,163)\",\"dash\":\"solid\"},\"marker\":{\"symbol\":\"circle\",\"size\":5},\"mode\":\"markers+lines\",\"name\":\"Wheat\",\"orientation\":\"v\",\"showlegend\":true,\"x\":[1961,1962,1963,1964,1965,1966,1967,1968,1969,1970,1971,1972,1973,1974,1975,1976,1977,1978,1979,1980,1981,1982,1983,1984,1985,1986,1987,1988,1989,1990,1991,1992,1993,1994,1995,1996,1997,1998,1999,2000,2001,2002,2003,2004,2005,2006,2007,2008,2009,2010,2011,2012,2013,2014,2015,2016,2017,2018,2019,2020,2021,2022],\"xaxis\":\"x\",\"y\":[311300.1234,350446.8044,326675.2622,376308.3198,369104.3482,425299.644,412014.2264,457581.5174,432096.3962,435037.3356,486535.8134,480202.0006,517067.7764,502355.6188,498128.6044,587815.2434,535187.3478,621382.832,592199.0214,616263.0614,629487.5804,667476.0526,685377.3934,717262.315,699338.3488,740159.3108,707106.1858,700919.1532,753488.5596,827862.1554,773261.202,785302.9366,788199.2202,746134.6508,751540.3434,799986.5048,866781.6906,830608.5396,814059.7318,822707.4226,823541.0204,828863.399,769964.2622,888532.4126,877829.1704,860134.3016,849232.0788,952412.9524,957094.0932,897123.6764,975656.9648,943222.6118,994238.9856,1020260.8654,1038583.3752,1047811.9736,1082050.6984,1025299.8266,1069674.7572,1059832.3484,1081891.2006,1131818.1952],\"yaxis\":\"y\",\"type\":\"scatter\"},{\"hovertemplate\":\"Food_type=Beef and Buffalo Meat<br>Year=%{x}<br>GHG emissions (in thousands t of CO2e)=%{y}<extra></extra>\",\"legendgroup\":\"Beef and Buffalo Meat\",\"line\":{\"color\":\"rgb(255,127,0)\",\"dash\":\"solid\"},\"marker\":{\"symbol\":\"circle\",\"size\":5},\"mode\":\"markers+lines\",\"name\":\"Beef and Buffalo Meat\",\"orientation\":\"v\",\"showlegend\":true,\"x\":[1961,1962,1963,1964,1965,1966,1967,1968,1969,1970,1971,1972,1973,1974,1975,1976,1977,1978,1979,1980,1981,1982,1983,1984,1985,1986,1987,1988,1989,1990,1991,1992,1993,1994,1995,1996,1997,1998,1999,2000,2001,2002,2003,2004,2005,2006,2007,2008,2009,2010,2011,2012,2013,2014,2015,2016,2017,2018,2019,2020,2021,2022],\"xaxis\":\"x\",\"y\":[1725190.44,1818314.46,1918418.7,1946077.68,1982286.3,2085096.06,2189678.16,2293508.64,2352515.58,2379531.18,2364619.74,2393755.98,2415460.92,2598548.46,2711751.72,2856213.42,2880467.82,2912127.06,2842921.26,2832042.84,2859672.3,2865431.7,2942064.78,3026360.22,3081060.12,3186472.74,3184514.34,3214115.04,3227731.86,3321070.02,3321069.36,3272256.0,3206718.84,3210380.16,3263839.5,3309932.22,3391760.94,3381937.68,3473651.04,3500220.42,3491812.74,3567348.42,3626064.48,3732931.68,3759924.6,3858044.1,3970629.3,3992223.6,4034442.96,4042193.34,4043120.7,4078485.9,4154551.5,4186537.2,4169590.14,4190058.06,4263178.62,4372709.28,4482313.32,4423525.98,4493385.06,4574976.0],\"yaxis\":\"y\",\"type\":\"scatter\"},{\"hovertemplate\":\"Food_type=Rye<br>Year=%{x}<br>GHG emissions (in thousands t of CO2e)=%{y}<extra></extra>\",\"legendgroup\":\"Rye\",\"line\":{\"color\":\"rgb(255,255,51)\",\"dash\":\"solid\"},\"marker\":{\"symbol\":\"circle\",\"size\":5},\"mode\":\"markers+lines\",\"name\":\"Rye\",\"orientation\":\"v\",\"showlegend\":true,\"x\":[1961,1962,1963,1964,1965,1966,1967,1968,1969,1970,1971,1972,1973,1974,1975,1976,1977,1978,1979,1980,1981,1982,1983,1984,1985,1986,1987,1988,1989,1990,1991,1992,1993,1994,1995,1996,1997,1998,1999,2000,2001,2002,2003,2004,2005,2006,2007,2008,2009,2010,2011,2012,2013,2014,2015,2016,2017,2018,2019,2020,2021,2022],\"xaxis\":\"x\",\"y\":[49153.986,48754.1026,42679.6958,45735.6396,49507.9634,43130.9886,44020.7726,46235.8414,41200.3382,38748.8192,44372.0942,40148.584,40544.7784,45529.127,34029.6334,41494.474,33646.6144,43297.233,31724.1638,35529.165,34792.3688,43551.83,48807.2354,47377.8382,44863.6272,42579.7554,45516.3618,43451.6012,48541.5854,53471.0162,40641.139,42703.948,38414.3956,32043.1384,32511.7016,32303.3158,35410.2294,29558.7768,28222.2794,28150.8654,32735.3502,29306.5122,20507.207,24685.3446,21305.2462,17732.68,21159.9346,25377.5452,25518.5154,16682.519,18348.0822,20299.6598,23309.9496,21285.8212,18112.0856,18198.8002,18216.1658,14983.4734,17911.999,21051.5368,18367.384,18400.2756],\"yaxis\":\"y\",\"type\":\"scatter\"}],                        {\"template\":{\"data\":{\"histogram2dcontour\":[{\"type\":\"histogram2dcontour\",\"colorbar\":{\"outlinewidth\":0,\"ticks\":\"\"},\"colorscale\":[[0.0,\"#0d0887\"],[0.1111111111111111,\"#46039f\"],[0.2222222222222222,\"#7201a8\"],[0.3333333333333333,\"#9c179e\"],[0.4444444444444444,\"#bd3786\"],[0.5555555555555556,\"#d8576b\"],[0.6666666666666666,\"#ed7953\"],[0.7777777777777778,\"#fb9f3a\"],[0.8888888888888888,\"#fdca26\"],[1.0,\"#f0f921\"]]}],\"choropleth\":[{\"type\":\"choropleth\",\"colorbar\":{\"outlinewidth\":0,\"ticks\":\"\"}}],\"histogram2d\":[{\"type\":\"histogram2d\",\"colorbar\":{\"outlinewidth\":0,\"ticks\":\"\"},\"colorscale\":[[0.0,\"#0d0887\"],[0.1111111111111111,\"#46039f\"],[0.2222222222222222,\"#7201a8\"],[0.3333333333333333,\"#9c179e\"],[0.4444444444444444,\"#bd3786\"],[0.5555555555555556,\"#d8576b\"],[0.6666666666666666,\"#ed7953\"],[0.7777777777777778,\"#fb9f3a\"],[0.8888888888888888,\"#fdca26\"],[1.0,\"#f0f921\"]]}],\"heatmap\":[{\"type\":\"heatmap\",\"colorbar\":{\"outlinewidth\":0,\"ticks\":\"\"},\"colorscale\":[[0.0,\"#0d0887\"],[0.1111111111111111,\"#46039f\"],[0.2222222222222222,\"#7201a8\"],[0.3333333333333333,\"#9c179e\"],[0.4444444444444444,\"#bd3786\"],[0.5555555555555556,\"#d8576b\"],[0.6666666666666666,\"#ed7953\"],[0.7777777777777778,\"#fb9f3a\"],[0.8888888888888888,\"#fdca26\"],[1.0,\"#f0f921\"]]}],\"heatmapgl\":[{\"type\":\"heatmapgl\",\"colorbar\":{\"outlinewidth\":0,\"ticks\":\"\"},\"colorscale\":[[0.0,\"#0d0887\"],[0.1111111111111111,\"#46039f\"],[0.2222222222222222,\"#7201a8\"],[0.3333333333333333,\"#9c179e\"],[0.4444444444444444,\"#bd3786\"],[0.5555555555555556,\"#d8576b\"],[0.6666666666666666,\"#ed7953\"],[0.7777777777777778,\"#fb9f3a\"],[0.8888888888888888,\"#fdca26\"],[1.0,\"#f0f921\"]]}],\"contourcarpet\":[{\"type\":\"contourcarpet\",\"colorbar\":{\"outlinewidth\":0,\"ticks\":\"\"}}],\"contour\":[{\"type\":\"contour\",\"colorbar\":{\"outlinewidth\":0,\"ticks\":\"\"},\"colorscale\":[[0.0,\"#0d0887\"],[0.1111111111111111,\"#46039f\"],[0.2222222222222222,\"#7201a8\"],[0.3333333333333333,\"#9c179e\"],[0.4444444444444444,\"#bd3786\"],[0.5555555555555556,\"#d8576b\"],[0.6666666666666666,\"#ed7953\"],[0.7777777777777778,\"#fb9f3a\"],[0.8888888888888888,\"#fdca26\"],[1.0,\"#f0f921\"]]}],\"surface\":[{\"type\":\"surface\",\"colorbar\":{\"outlinewidth\":0,\"ticks\":\"\"},\"colorscale\":[[0.0,\"#0d0887\"],[0.1111111111111111,\"#46039f\"],[0.2222222222222222,\"#7201a8\"],[0.3333333333333333,\"#9c179e\"],[0.4444444444444444,\"#bd3786\"],[0.5555555555555556,\"#d8576b\"],[0.6666666666666666,\"#ed7953\"],[0.7777777777777778,\"#fb9f3a\"],[0.8888888888888888,\"#fdca26\"],[1.0,\"#f0f921\"]]}],\"mesh3d\":[{\"type\":\"mesh3d\",\"colorbar\":{\"outlinewidth\":0,\"ticks\":\"\"}}],\"scatter\":[{\"fillpattern\":{\"fillmode\":\"overlay\",\"size\":10,\"solidity\":0.2},\"type\":\"scatter\"}],\"parcoords\":[{\"type\":\"parcoords\",\"line\":{\"colorbar\":{\"outlinewidth\":0,\"ticks\":\"\"}}}],\"scatterpolargl\":[{\"type\":\"scatterpolargl\",\"marker\":{\"colorbar\":{\"outlinewidth\":0,\"ticks\":\"\"}}}],\"bar\":[{\"error_x\":{\"color\":\"#2a3f5f\"},\"error_y\":{\"color\":\"#2a3f5f\"},\"marker\":{\"line\":{\"color\":\"#E5ECF6\",\"width\":0.5},\"pattern\":{\"fillmode\":\"overlay\",\"size\":10,\"solidity\":0.2}},\"type\":\"bar\"}],\"scattergeo\":[{\"type\":\"scattergeo\",\"marker\":{\"colorbar\":{\"outlinewidth\":0,\"ticks\":\"\"}}}],\"scatterpolar\":[{\"type\":\"scatterpolar\",\"marker\":{\"colorbar\":{\"outlinewidth\":0,\"ticks\":\"\"}}}],\"histogram\":[{\"marker\":{\"pattern\":{\"fillmode\":\"overlay\",\"size\":10,\"solidity\":0.2}},\"type\":\"histogram\"}],\"scattergl\":[{\"type\":\"scattergl\",\"marker\":{\"colorbar\":{\"outlinewidth\":0,\"ticks\":\"\"}}}],\"scatter3d\":[{\"type\":\"scatter3d\",\"line\":{\"colorbar\":{\"outlinewidth\":0,\"ticks\":\"\"}},\"marker\":{\"colorbar\":{\"outlinewidth\":0,\"ticks\":\"\"}}}],\"scattermapbox\":[{\"type\":\"scattermapbox\",\"marker\":{\"colorbar\":{\"outlinewidth\":0,\"ticks\":\"\"}}}],\"scatterternary\":[{\"type\":\"scatterternary\",\"marker\":{\"colorbar\":{\"outlinewidth\":0,\"ticks\":\"\"}}}],\"scattercarpet\":[{\"type\":\"scattercarpet\",\"marker\":{\"colorbar\":{\"outlinewidth\":0,\"ticks\":\"\"}}}],\"carpet\":[{\"aaxis\":{\"endlinecolor\":\"#2a3f5f\",\"gridcolor\":\"white\",\"linecolor\":\"white\",\"minorgridcolor\":\"white\",\"startlinecolor\":\"#2a3f5f\"},\"baxis\":{\"endlinecolor\":\"#2a3f5f\",\"gridcolor\":\"white\",\"linecolor\":\"white\",\"minorgridcolor\":\"white\",\"startlinecolor\":\"#2a3f5f\"},\"type\":\"carpet\"}],\"table\":[{\"cells\":{\"fill\":{\"color\":\"#EBF0F8\"},\"line\":{\"color\":\"white\"}},\"header\":{\"fill\":{\"color\":\"#C8D4E3\"},\"line\":{\"color\":\"white\"}},\"type\":\"table\"}],\"barpolar\":[{\"marker\":{\"line\":{\"color\":\"#E5ECF6\",\"width\":0.5},\"pattern\":{\"fillmode\":\"overlay\",\"size\":10,\"solidity\":0.2}},\"type\":\"barpolar\"}],\"pie\":[{\"automargin\":true,\"type\":\"pie\"}]},\"layout\":{\"autotypenumbers\":\"strict\",\"colorway\":[\"#636efa\",\"#EF553B\",\"#00cc96\",\"#ab63fa\",\"#FFA15A\",\"#19d3f3\",\"#FF6692\",\"#B6E880\",\"#FF97FF\",\"#FECB52\"],\"font\":{\"color\":\"#2a3f5f\"},\"hovermode\":\"closest\",\"hoverlabel\":{\"align\":\"left\"},\"paper_bgcolor\":\"white\",\"plot_bgcolor\":\"#E5ECF6\",\"polar\":{\"bgcolor\":\"#E5ECF6\",\"angularaxis\":{\"gridcolor\":\"white\",\"linecolor\":\"white\",\"ticks\":\"\"},\"radialaxis\":{\"gridcolor\":\"white\",\"linecolor\":\"white\",\"ticks\":\"\"}},\"ternary\":{\"bgcolor\":\"#E5ECF6\",\"aaxis\":{\"gridcolor\":\"white\",\"linecolor\":\"white\",\"ticks\":\"\"},\"baxis\":{\"gridcolor\":\"white\",\"linecolor\":\"white\",\"ticks\":\"\"},\"caxis\":{\"gridcolor\":\"white\",\"linecolor\":\"white\",\"ticks\":\"\"}},\"coloraxis\":{\"colorbar\":{\"outlinewidth\":0,\"ticks\":\"\"}},\"colorscale\":{\"sequential\":[[0.0,\"#0d0887\"],[0.1111111111111111,\"#46039f\"],[0.2222222222222222,\"#7201a8\"],[0.3333333333333333,\"#9c179e\"],[0.4444444444444444,\"#bd3786\"],[0.5555555555555556,\"#d8576b\"],[0.6666666666666666,\"#ed7953\"],[0.7777777777777778,\"#fb9f3a\"],[0.8888888888888888,\"#fdca26\"],[1.0,\"#f0f921\"]],\"sequentialminus\":[[0.0,\"#0d0887\"],[0.1111111111111111,\"#46039f\"],[0.2222222222222222,\"#7201a8\"],[0.3333333333333333,\"#9c179e\"],[0.4444444444444444,\"#bd3786\"],[0.5555555555555556,\"#d8576b\"],[0.6666666666666666,\"#ed7953\"],[0.7777777777777778,\"#fb9f3a\"],[0.8888888888888888,\"#fdca26\"],[1.0,\"#f0f921\"]],\"diverging\":[[0,\"#8e0152\"],[0.1,\"#c51b7d\"],[0.2,\"#de77ae\"],[0.3,\"#f1b6da\"],[0.4,\"#fde0ef\"],[0.5,\"#f7f7f7\"],[0.6,\"#e6f5d0\"],[0.7,\"#b8e186\"],[0.8,\"#7fbc41\"],[0.9,\"#4d9221\"],[1,\"#276419\"]]},\"xaxis\":{\"gridcolor\":\"white\",\"linecolor\":\"white\",\"ticks\":\"\",\"title\":{\"standoff\":15},\"zerolinecolor\":\"white\",\"automargin\":true,\"zerolinewidth\":2},\"yaxis\":{\"gridcolor\":\"white\",\"linecolor\":\"white\",\"ticks\":\"\",\"title\":{\"standoff\":15},\"zerolinecolor\":\"white\",\"automargin\":true,\"zerolinewidth\":2},\"scene\":{\"xaxis\":{\"backgroundcolor\":\"#E5ECF6\",\"gridcolor\":\"white\",\"linecolor\":\"white\",\"showbackground\":true,\"ticks\":\"\",\"zerolinecolor\":\"white\",\"gridwidth\":2},\"yaxis\":{\"backgroundcolor\":\"#E5ECF6\",\"gridcolor\":\"white\",\"linecolor\":\"white\",\"showbackground\":true,\"ticks\":\"\",\"zerolinecolor\":\"white\",\"gridwidth\":2},\"zaxis\":{\"backgroundcolor\":\"#E5ECF6\",\"gridcolor\":\"white\",\"linecolor\":\"white\",\"showbackground\":true,\"ticks\":\"\",\"zerolinecolor\":\"white\",\"gridwidth\":2}},\"shapedefaults\":{\"line\":{\"color\":\"#2a3f5f\"}},\"annotationdefaults\":{\"arrowcolor\":\"#2a3f5f\",\"arrowhead\":0,\"arrowwidth\":1},\"geo\":{\"bgcolor\":\"white\",\"landcolor\":\"#E5ECF6\",\"subunitcolor\":\"white\",\"showland\":true,\"showlakes\":true,\"lakecolor\":\"white\"},\"title\":{\"x\":0.05},\"mapbox\":{\"style\":\"light\"}}},\"xaxis\":{\"anchor\":\"y\",\"domain\":[0.0,1.0],\"title\":{\"text\":\"Year\"},\"showgrid\":true,\"gridcolor\":\"lightgray\"},\"yaxis\":{\"anchor\":\"x\",\"domain\":[0.0,1.0],\"title\":{\"text\":\"GHG emissions (in thousands t of CO2e)\"},\"showgrid\":true,\"gridcolor\":\"lightgray\"},\"legend\":{\"title\":{\"text\":\"Food_type\"},\"tracegroupgap\":0},\"title\":{\"text\":\"Worldwide evolution of GHG emissions by Type of Food\"},\"margin\":{\"l\":40,\"r\":40,\"t\":80,\"b\":40},\"height\":500,\"width\":800,\"plot_bgcolor\":\"rgba(0,0,0,0)\"},                        {\"responsive\": true}                    ).then(function(){\n",
       "                            \n",
       "var gd = document.getElementById('63ef9005-b701-42bc-ad5d-c16c1a0026d9');\n",
       "var x = new MutationObserver(function (mutations, observer) {{\n",
       "        var display = window.getComputedStyle(gd).display;\n",
       "        if (!display || display === 'none') {{\n",
       "            console.log([gd, 'removed!']);\n",
       "            Plotly.purge(gd);\n",
       "            observer.disconnect();\n",
       "        }}\n",
       "}});\n",
       "\n",
       "// Listen for the removal of the full notebook cells\n",
       "var notebookContainer = gd.closest('#notebook-container');\n",
       "if (notebookContainer) {{\n",
       "    x.observe(notebookContainer, {childList: true});\n",
       "}}\n",
       "\n",
       "// Listen for the clearing of the current output cell\n",
       "var outputEl = gd.closest('.output');\n",
       "if (outputEl) {{\n",
       "    x.observe(outputEl, {childList: true});\n",
       "}}\n",
       "\n",
       "                        })                };                });            </script>        </div>"
      ]
     },
     "metadata": {},
     "output_type": "display_data"
    }
   ],
   "source": [
    "#fig_ghgfood = px.line(ghgperfood, x='Year', y='ghgemissionsperthousand_t', color='Food_type', \n",
    "#              title='Worldwide evolution of GHG emissions by Type of Food',\n",
    "#              labels={'year': 'Year', 'ghgemissionsperthousand_t': 'GHG emissions (in thousands t of CO2e)'},\n",
    "#              color_discrete_sequence=px.colors.qualitative.Set1)  \n",
    "\n",
    "#fig_ghgfood.update_traces(mode='markers+lines', marker=dict(size=5))\n",
    "\n",
    "#fig_ghgfood.update_layout(height=500, width=800, margin=dict(l=40, r=40, t=80, b=40), plot_bgcolor='rgba(0,0,0,0)')\n",
    "\n",
    "#fig_ghgfood.update_xaxes(showgrid=True, gridcolor='lightgray')\n",
    "#fig_ghgfood.update_yaxes(showgrid=True, gridcolor='lightgray')\n",
    "\n",
    "#fig_ghgfood.show()"
   ]
  },
  {
   "cell_type": "code",
   "execution_count": 69,
   "id": "f246ba54",
   "metadata": {},
   "outputs": [],
   "source": [
    "from tabulate import tabulate\n",
    "\n",
    "# Filter the DataFrame\n",
    "foods = [\"Apples\", \"Bananas\", \"Barley\", \"Beef (beef herd)\", \"Beef (dairy herd)\", \"Cane Sugar\", \"Cheese\", \"Coffee\", \n",
    "         \"Dark Chocolate\", \"Eggs\", \"Fish (farmed)\", \"Lamb & Mutton\", \"Maize\", \"Milk\", \"Nuts\", \"Other Fruit\", \n",
    "         \"Other Pulses\", \"Other Vegetables\", \"Palm Oil\", \"Peas\", \"Pig Meat\", \"Potatoes\", \"Poultry Meat\", \n",
    "         \"Rapeseed Oil\", \"Rice\", \"Soybean Oil\", \"Sunflower Oil\", \"Tomatoes\",  \"Wheat & Rye\"]\n",
    "\n",
    "land_used_per_kg_def = land_used_per_kg[land_used_per_kg['Food'].isin(foods)]\n",
    "\n"
   ]
  },
  {
   "cell_type": "code",
   "execution_count": 70,
   "id": "5b1fd602",
   "metadata": {},
   "outputs": [],
   "source": [
    "# Filter the DataFrame\n",
    "foods = [\"Apples\", \"Bananas\", \"Barley\", \"Beef (beef herd)\", \"Beef (dairy herd)\", \"Cane Sugar\", \"Cheese\", \"Coffee\", \n",
    "         \"Dark Chocolate\", \"Eggs\", \"Fish (farmed)\", \"Lamb & Mutton\", \"Maize\", \"Milk\", \"Nuts\", \"Other Fruit\", \n",
    "         \"Other Pulses\", \"Other Vegetables\", \"Palm Oil\", \"Peas\", \"Pig Meat\", \"Potatoes\", \"Poultry Meat\", \n",
    "         \"Rapeseed Oil\", \"Rice\", \"Soybean Oil\", \"Sunflower Oil\", \"Tomatoes\",  \"Wheat & Rye\"]\n",
    "\n",
    "land_used_per_kg_def = land_used_per_kg[land_used_per_kg['Food'].isin(foods)]\n"
   ]
  },
  {
   "cell_type": "code",
   "execution_count": 71,
   "id": "1d269a9c",
   "metadata": {},
   "outputs": [],
   "source": [
    "# Sort the DataFrame by 'Land use per kilogram' in descending order\n",
    "land_used_per_kg1 = land_used_per_kg.sort_values(by='Land use per kilogram', ascending=False)\n",
    "\n",
    "# Select the top rows\n",
    "land_used_per_kg2 = land_used_per_kg1.head()\n",
    "\n",
    "# Plot with matplotlib\n",
    "#plt.figure(figsize=(10, 5))\n",
    "#land_plot1 = plt.barh(land_used_per_kg2['Food'], land_used_per_kg2['Land use per kilogram'], color='brown')\n",
    "#plt.xlabel('Land Use (in m^2)')\n",
    "#plt.ylabel('Food product')\n",
    "#plt.title('Land Use per kg of Food produced')\n",
    "#plt.show()\n",
    "\n",
    "# Plotly interactive plot with a custom colorscale\n",
    "#fig_land = px.bar(land_used_per_kg2, x='Food', y='Land use per kilogram', \n",
    "#             color='Land use per kilogram', \n",
    "#             color_continuous_scale=[[0, 'white'], [0.5, 'orange'], [1.0, 'brown']], \n",
    "#             labels={'Land use per kilogram': 'Land Use (in m^2)', 'Food': 'Food product'}, \n",
    "#             title='Land Use per kg of Food produced')\n",
    "#fig_land.show()"
   ]
  },
  {
   "cell_type": "code",
   "execution_count": 72,
   "id": "12ea329c",
   "metadata": {},
   "outputs": [],
   "source": [
    "# Filter the DataFrame\n",
    "foods = [\"Palm Oil\", \"Barley\", \"Coffee\", \"Potatoes\", \"Bananas\", \"Apples\", \"Maize\", \"Beet Sugar\", \n",
    "         \"Tomatoes\", \"Dark Chocolate\", \"Eggs\", \"Milk\", \"Poultry Meat\", \"Sunflower Oil\", \"Beef (beef herd)\", \n",
    "         \"Pig Meat\", \"Rice\", \"Beef (dairy herd)\", \"Nuts\", \"Cheese\"]\n",
    "\n",
    "water_used_graf = water_used[water_used['Food'].isin(foods)]"
   ]
  },
  {
   "cell_type": "code",
   "execution_count": 73,
   "id": "914319c1",
   "metadata": {},
   "outputs": [],
   "source": [
    "# Sort the DataFrame by 'Freshwater withdrawals (liters) per kilogram' in descending order\n",
    "water_used_graf_sorted = water_used_graf.sort_values(by='Freshwater withdrawals (liters) per kilogram', ascending=True)\n",
    "\n",
    "# Plotly interactive plot with switched axes and ordered bars\n",
    "#fig_water = px.bar(water_used_graf_sorted, x='Freshwater withdrawals (liters) per kilogram', y='Food', \n",
    "#             color='Freshwater withdrawals (liters) per kilogram', \n",
    "#             color_continuous_scale='blues', \n",
    "#             labels={'Freshwater withdrawals (liters) per kilogram': 'Water requirement (in L)', 'Food': 'Food product (1kg)'}, \n",
    "#             title='Water Requirement for 1kg of Food produced',\n",
    "#             orientation='h',\n",
    "#             height=550, width=1000)\n",
    "#fig_water.show()"
   ]
  },
  {
   "cell_type": "code",
   "execution_count": 74,
   "id": "345c48cc",
   "metadata": {},
   "outputs": [],
   "source": [
    "# Sort the DataFrame by 'Freshwater withdrawals (liters) per kilogram' in descending order\n",
    "water_used_2018 = water_per_food_2018.sort_values(by='Freshwater_withdrawals_liters', ascending=True)\n",
    "\n",
    "#fig_water2 = px.bar(water_used_2018, y='Food', x='Freshwater_withdrawals_liters', \n",
    "#             color='Freshwater_withdrawals_liters', \n",
    "#             color_continuous_scale='blues', \n",
    "#             labels={'Freshwater_withdrawals_liters': 'Water requirement (in L)', \n",
    "#                     'Food': 'Worldwide Food production quantity (in kg)'}, \n",
    "#             title='Water required per quantity of Food produced',\n",
    "#             orientation='h',\n",
    "#             height=550, width=1000)\n",
    "#fig_water2.show()"
   ]
  },
  {
   "cell_type": "code",
   "execution_count": 75,
   "id": "726a2d6b",
   "metadata": {},
   "outputs": [],
   "source": [
    "#pip install widgetsnbextension"
   ]
  },
  {
   "cell_type": "code",
   "execution_count": 76,
   "id": "f86e3c47",
   "metadata": {},
   "outputs": [],
   "source": [
    "#pip install ipywidgets"
   ]
  },
  {
   "cell_type": "code",
   "execution_count": 77,
   "id": "0a62b507",
   "metadata": {},
   "outputs": [],
   "source": [
    "#pip install voila"
   ]
  },
  {
   "cell_type": "code",
   "execution_count": 88,
   "id": "aa207e8b",
   "metadata": {},
   "outputs": [],
   "source": [
    "#!jupyter nbextension enable --py widgetsnbextension --sys-prefix\n",
    "#!jupyter serverextension enable voila --sys-prefix"
   ]
  },
  {
   "cell_type": "code",
   "execution_count": 86,
   "id": "4864b2ed",
   "metadata": {},
   "outputs": [],
   "source": [
    "#!jupyter nbextension install voila --sys-prefix --py\n",
    "#!jupyter nbextension enable voila --sys-prefix --py"
   ]
  },
  {
   "cell_type": "code",
   "execution_count": 80,
   "id": "032c3cec",
   "metadata": {},
   "outputs": [],
   "source": [
    "#!jupyter nbextension install --py widgetsnbextension --sys-prefix\n",
    "#!jupyter nbextension enable --py widgetsnbextension --sys-prefix"
   ]
  },
  {
   "cell_type": "code",
   "execution_count": 81,
   "id": "60769449",
   "metadata": {},
   "outputs": [],
   "source": [
    "import warnings\n",
    "warnings.filterwarnings('ignore')\n",
    "\n",
    "import ipywidgets as widgets\n",
    "from IPython.display import display, clear_output\n",
    "\n",
    "import plotly.graph_objs as go\n",
    "import ipywidgets as widgets\n",
    "from IPython.display import display"
   ]
  },
  {
   "cell_type": "code",
   "execution_count": 82,
   "id": "80b9a770",
   "metadata": {},
   "outputs": [],
   "source": [
    "def create_plot(df, x, y, color, title, labels):\n",
    "    \"\"\"Function to create plot\"\"\"\n",
    "    fig = go.Figure()\n",
    "    color_palette = px.colors.qualitative.Set1\n",
    "    categories = df[color].unique()\n",
    "    num_categories = len(categories)\n",
    "    for i, category in enumerate(categories):\n",
    "        data = df[df[color] == category]\n",
    "        color_index = i % len(color_palette)\n",
    "        fig.add_trace(go.Scatter(x=data[x], y=data[y], mode='lines+markers', name=category,\n",
    "                                 line=dict(color=color_palette[color_index]), marker=dict(color=color_palette[color_index])))\n",
    "    fig.update_layout(title=title, xaxis_title=labels[x], yaxis_title=labels[y], height=500, width=800)\n",
    "    return fig\n",
    "\n",
    "\n",
    "def create_barplot(df, x, y, title, labels):\n",
    "    \"\"\"Function to create barplot\"\"\"\n",
    "    fig = px.bar(df, x=x, y=y, title=title, labels=labels, color_discrete_sequence=px.colors.qualitative.Set1)\n",
    "    fig.update_layout(height=500, width=800, margin=dict(l=40, r=40, t=80, b=40), plot_bgcolor='rgba(0,0,0,0)')\n",
    "    fig.update_xaxes(showgrid=True, gridcolor='lightgray')\n",
    "    fig.update_yaxes(showgrid=True, gridcolor='lightgray')\n",
    "    return fig"
   ]
  },
  {
   "cell_type": "code",
   "execution_count": 83,
   "id": "ffb620a2",
   "metadata": {},
   "outputs": [],
   "source": [
    "plots = {\n",
    "    'ghgevol_plot': create_plot(ghgevol, 'Year', 'GHGemissions', 'Sector', 'Worldwide evolution of Greenhouse gas emissions by Sector',\n",
    "                                {'Year': 'Year', 'GHGemissions': 'GHG emissions (in t of CO2e)'}),\n",
    "    'ch4evol_plot': create_plot(ch4evol, 'Year', 'Methane emissions', 'Sector', 'Worldwide evolution of Methane emissions by Sector',\n",
    "                     {'Year': 'Year', 'Methane emissions': 'CH4 emissions (in t of CO2e)'}),\n",
    "    'n2oevol_plot': create_plot(n2obysector, 'Year', 'Nitrous Oxide emissions', 'Sector', 'Worldwide evolution of Nitrous Oxide emissions by Sector',\n",
    "                     {'Year': 'Year', 'Nitrous Oxide emissions': 'N2O emissions (in t of CO2e)'}),\n",
    "    'ghgfood_plot': create_plot(ghgperfood, 'Year', 'ghgemissionsperthousand_t', 'Food_type', 'Worldwide evolution of GHG emissions by Type of Food',\n",
    "                     {'Year': 'Year', 'ghgemissionsperthousand_t': 'GHG emissions (in thousands t of CO2e)'}),\n",
    "    'landperkg_plot': create_barplot(land_used_per_kg2, 'Food', 'Land use per kilogram', \n",
    "                                     'Land Use per Kilogram of Food Produced', \n",
    "                                     {'Food': 'Food product', 'Land use per kilogram': 'Land Use (in m^2)'}),\n",
    "    'waterperkg_plot': create_barplot(water_used_graf_sorted, 'Food', 'Freshwater withdrawals (liters) per kilogram', \n",
    "                                      'Water Requirement for 1kg of Food Produced', \n",
    "                                      {'Food': 'Food product', 'Freshwater withdrawals (liters) per kilogram': 'Water requirement (in L)'}),\n",
    "    'waterperqty_plot': create_barplot(water_used_2018, 'Food', 'Freshwater_withdrawals_liters', \n",
    "                                       'Water Required per Quantity of Food Produced', \n",
    "                                       {'Food': 'Food product', 'Freshwater_withdrawals_liters': 'Water requirement (in L)'})\n",
    "}\n"
   ]
  },
  {
   "cell_type": "code",
   "execution_count": 89,
   "id": "648edffa",
   "metadata": {},
   "outputs": [
    {
     "data": {
      "application/vnd.jupyter.widget-view+json": {
       "model_id": "b63285c6acc84187a247212ffc65a43c",
       "version_major": 2,
       "version_minor": 0
      },
      "text/plain": [
       "VBox(children=(HTML(value='<h1>Cultivating Awareness Web App</h1>'), HTML(value='<p>This web app allows you to…"
      ]
     },
     "metadata": {},
     "output_type": "display_data"
    }
   ],
   "source": [
    "import pandas as pd\n",
    "import plotly.express as px\n",
    "import ipywidgets as widgets\n",
    "from IPython.display import display, clear_output\n",
    "\n",
    "# Dropdown widget for the Consumption section\n",
    "region_selector_consumption = widgets.Dropdown(\n",
    "    options=daily_prot['Region'].unique(),\n",
    "    value='Africa',\n",
    "    description='Select Region:'\n",
    ")\n",
    "\n",
    "# Output widgets for the Consumption section\n",
    "plot_output_consumption = widgets.Output()\n",
    "description_output_consumption = widgets.Output()\n",
    "\n",
    "# Update the plot for the Consumption section\n",
    "def update_consumption_plot(change):\n",
    "    selected_region = change['new']\n",
    "    filtered_df = daily_prot[daily_prot['Region'] == selected_region]\n",
    "    \n",
    "    fig = px.line(\n",
    "        filtered_df, \n",
    "        x='Year', \n",
    "        y=['Animal Protein (in g/day)', 'Vegetal Protein (in g/day)'],\n",
    "        labels={\n",
    "            'value': 'Protein (in g/day)', \n",
    "            'variable': 'Protein Type'\n",
    "        },\n",
    "        title=f'Protein Consumption in {selected_region}',\n",
    "        width=800,\n",
    "        height=600\n",
    "    )\n",
    "    with plot_output_consumption:\n",
    "        plot_output_consumption.clear_output(wait=True)\n",
    "        display(fig)\n",
    "    \n",
    "    description = \"Recommended daily protein intake for an adult: 0.8 g of protein per kilo of body weight (i.e. 52 g for a weight of 65 kg). This recommendation is independent of age and gender.\"\n",
    "    with description_output_consumption:\n",
    "        description_output_consumption.clear_output(wait=True)\n",
    "        print(description)\n",
    "\n",
    "# Connect the update function to the dropdown\n",
    "region_selector_consumption.observe(update_consumption_plot, names='value')\n",
    "\n",
    "# Create button for the Consumption section\n",
    "consumption_button = widgets.Button(description=\"Protein Consumption\")\n",
    "\n",
    "# Add the Consumption button and functionality to switch to the Consumption section\n",
    "def show_consumption_section(b):\n",
    "    \"\"\"Switch to the Consumption section\"\"\"\n",
    "    with current_display:\n",
    "        clear_output(wait=True)\n",
    "        display(widgets.VBox([region_selector_consumption, description_output_consumption, plot_output_consumption]))\n",
    "\n",
    "consumption_button.on_click(show_consumption_section)\n",
    "\n",
    "# Dropdown widgets for plot selection\n",
    "plot_selector = widgets.Dropdown(\n",
    "    options=[\n",
    "        ('Greenhouse Gas Emissions', 'ghgevol_plot'),\n",
    "        ('Methane Emissions', 'ch4evol_plot'),\n",
    "        ('Nitrous Oxide Gas Emission', 'n2oevol_plot'),\n",
    "        ('Greenhouse Gas per Food', 'ghgfood_plot'),\n",
    "    ],\n",
    "    value='ghgevol_plot',\n",
    "    description='Select Plot:'\n",
    ")\n",
    "\n",
    "plot_selector2 = widgets.Dropdown(\n",
    "    options=[\n",
    "        ('Land used per kg of Food', 'landperkg_plot'),\n",
    "        ('Water used per kg of Food', 'waterperkg_plot'),\n",
    "        ('Water used per quantity of Food', 'waterperqty_plot')\n",
    "    ],\n",
    "    value='landperkg_plot',  \n",
    "    description='Select Plot:'\n",
    ")\n",
    "\n",
    "# Output widgets for plot and description for each section\n",
    "plot_output_ghg = widgets.Output()\n",
    "plot_output_land_water = widgets.Output()\n",
    "description_output_ghg = widgets.Output()\n",
    "description_output_land_water = widgets.Output()\n",
    "\n",
    "# Dictionary containing descriptions for each plot\n",
    "descriptions = {\n",
    "    'ghgevol_plot': \"The sector which is emitting the highest quantity of GHG since 1990 until now is the Electricity and Heat sector. The Agriculture was the second sector that emitted the most GHG in 1990. Its GHG emissions increased over time, and although it was not an extremely high increase, this sector is still one of the most polluting one nowadays: in 2020 it was in fourth place and almost equal to the third one which was the Manufacturing/Construction energy sector, and it was emitting 5796tCO2e (= tonnes of CO2 equivalent, it is a unit created to compare the impacts of the different GHG in terms of climate change and in order to be able to cumulate their emissions). This number corresponds to the amount of GHG emitted, however depending on which type of GHG is actually emitted, the Agriculture sector can in reality have a bigger environmental impact than what we might think, by only observing this graph that does not mention which type of GHG is emitted by each sector.\",\n",
    "    'ch4evol_plot': \"The Methane, also known as CH4, is known to have a pretty consequent impact on climate change. the Agriculture sector is the one that is emitting the most consequent amount of Methane. The amount of CH4 that it is emitting has slightly increased over time, however it seems quite stable overall.\",\n",
    "    'n2oevol_plot': \"The Nitrous Oxide gas, also called N2O, is part of the primary Greenhouse gases, and has a pretty consequent impact on climate change. The quantity of N2O emitted by the Agriculture sector is way higher than the quantity emitted by the other sectors, there is a significant difference between the Agriculture sector and the other ones from 1990 until 2020.\",\n",
    "    'ghgfood_plot': \"Sugar cane and eggs are the food that are emitting the most of GHG. The quantity of GHG that they are emitting has highly increased since the last few years, especially for the Sugar cane, because of its quantity produced each year that is becoming more and more important.\",\n",
    "    'landperkg_plot': \"Lamb/Mutton meat and Beef meat are the food that need the more land per kg produced. For example, we need 369.8m^2 of land per kg of Lamb/Mutton meat produced. Thus, those are the most resource consuming types of food concerning the land resource.\",\n",
    "    'waterperkg_plot': \"Cheese, Nuts and Beef are the types of food that need the highest quantity of freshwater during their production. For instance, for 1kg of Cheese produced it requires 5605.2L of freshwater, and for 1kg of Beef (beef herd) produced it needs 2714.3L of freshwater.\",\n",
    "    'waterperqty_plot': \"Sugar can, Maize and Milk are the most resource consuming (concerning the water resource) type of food during their production when taking into account the quantity of food actually produced, because when we look at the amount of freshwater needed depending on the quantity of food actually produced, the total amount of freshwater withdrawals for those food is very important.\"\n",
    "}\n",
    "\n",
    "def update_plot(change):\n",
    "    \"\"\"Update the plot and description based on the selected option\"\"\"\n",
    "    new_value = change['new']\n",
    "    if plot_selector.value == new_value:\n",
    "        plot_output_ghg.clear_output(wait=True)\n",
    "        description_output_ghg.clear_output(wait=True)\n",
    "        with plot_output_ghg:\n",
    "            display(plots[new_value])\n",
    "        with description_output_ghg:\n",
    "            print(descriptions.get(new_value, ''))\n",
    "    elif plot_selector2.value == new_value:\n",
    "        plot_output_land_water.clear_output(wait=True)\n",
    "        description_output_land_water.clear_output(wait=True)\n",
    "        with plot_output_land_water:\n",
    "            display(plots[new_value])\n",
    "        with description_output_land_water:\n",
    "            print(descriptions.get(new_value, ''))\n",
    "\n",
    "# Connect the update_plot function to both plot_selector widgets\n",
    "plot_selector.observe(update_plot, names='value')\n",
    "plot_selector2.observe(update_plot, names='value')\n",
    "\n",
    "# Main title and description\n",
    "main_title = widgets.HTML(\"<h1>Cultivating Awareness Web App</h1>\")\n",
    "main_description = widgets.HTML(\"<p>This web app allows you to explore Greenhouse Gas (GHG) emissions, Land/Water usage data for different food products, and protein consumption data.</p>\")\n",
    "\n",
    "# Create buttons for navigation\n",
    "ghg_button = widgets.Button(description=\"GreenHouse Gasses\")\n",
    "land_water_button = widgets.Button(description=\"Land/Water\")\n",
    "\n",
    "# Container to hold the currently displayed section\n",
    "current_display = widgets.Output()\n",
    "\n",
    "def show_ghg_section(b):\n",
    "    \"\"\"Switch to the GHG section\"\"\"\n",
    "    with current_display:\n",
    "        clear_output(wait=True)\n",
    "        display(widgets.VBox([plot_selector, description_output_ghg, plot_output_ghg]))\n",
    "\n",
    "def show_land_water_section(b):\n",
    "    \"\"\"Switch to the Land/Water section\"\"\"\n",
    "    with current_display:\n",
    "        clear_output(wait=True)\n",
    "        display(widgets.VBox([plot_selector2, description_output_land_water, plot_output_land_water]))\n",
    "\n",
    "ghg_button.on_click(show_ghg_section)\n",
    "land_water_button.on_click(show_land_water_section)\n",
    "\n",
    "# Display main page with buttons\n",
    "display(widgets.VBox([main_title, main_description, ghg_button, land_water_button, consumption_button, current_display]))\n",
    "\n",
    "# Initialize the first plot and description\n",
    "update_consumption_plot({'new': region_selector_consumption.value})\n"
   ]
  },
  {
   "cell_type": "code",
   "execution_count": null,
   "id": "dc14b6dc",
   "metadata": {},
   "outputs": [],
   "source": []
  },
  {
   "cell_type": "code",
   "execution_count": 79,
   "id": "5a64fe4e",
   "metadata": {},
   "outputs": [],
   "source": [
    "#!pip freeze > requirements.txt"
   ]
  },
  {
   "cell_type": "code",
   "execution_count": 76,
   "id": "7312f871",
   "metadata": {},
   "outputs": [],
   "source": [
    "#%load_ext watermark\n",
    "\n",
    "#%watermark -v -m -p ipywidgets, tabulate, pandas, matplotlib, plotly.express, plotly.graph_objs, watermark\n",
    "\n",
    "#date\n",
    "#print(\" \")\n",
    "#%watermark -u -n -t -z"
   ]
  },
  {
   "cell_type": "code",
   "execution_count": 77,
   "id": "3578e63e",
   "metadata": {},
   "outputs": [],
   "source": [
    "#%watermark -v -m -p pandas,matplotlib,plotly,watermark,tabulate\n"
   ]
  }
 ],
 "metadata": {
  "kernelspec": {
   "display_name": "Python 3 (ipykernel)",
   "language": "python",
   "name": "python3"
  },
  "language_info": {
   "codemirror_mode": {
    "name": "ipython",
    "version": 3
   },
   "file_extension": ".py",
   "mimetype": "text/x-python",
   "name": "python",
   "nbconvert_exporter": "python",
   "pygments_lexer": "ipython3",
   "version": "3.11.4"
  }
 },
 "nbformat": 4,
 "nbformat_minor": 5
}
